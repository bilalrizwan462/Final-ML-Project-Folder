{
 "cells": [
  {
   "cell_type": "code",
   "execution_count": 37,
   "id": "35f86c39",
   "metadata": {},
   "outputs": [],
   "source": [
    "from sklearn.linear_model import  LogisticRegression \n",
    "from sklearn.model_selection import train_test_split, RepeatedKFold, RepeatedStratifiedKFold, StratifiedKFold, GridSearchCV, cross_val_score, RandomizedSearchCV\n",
    "from sklearn.preprocessing import StandardScaler, MinMaxScaler, PolynomialFeatures, LabelEncoder\n",
    "from sklearn.tree import DecisionTreeClassifier\n",
    "from sklearn.naive_bayes import MultinomialNB, CategoricalNB, GaussianNB\n",
    "from sklearn.feature_selection import SequentialFeatureSelector\n",
    "from sklearn.neighbors import KNeighborsClassifier\n",
    "from sklearn.ensemble import GradientBoostingClassifier, RandomForestClassifier, VotingClassifier, StackingClassifier\n",
    "from xgboost import XGBClassifier\n",
    "from sklearn.pipeline import Pipeline\n",
    "from sklearn.metrics import roc_curve, roc_auc_score, accuracy_score, precision_score, recall_score, make_scorer, confusion_matrix, ConfusionMatrixDisplay\n",
    "from sklearn.datasets import make_classification\n",
    "\n",
    "\n",
    "import time\n",
    "import numpy as np\n",
    "#!pip install imblearn\n",
    "from imblearn.pipeline import Pipeline\n",
    "from imblearn.over_sampling import SMOTE\n",
    "from imblearn.under_sampling import RandomUnderSampler\n",
    "\n",
    "import numpy as np\n",
    "from numpy import *\n",
    "from numpy import mean\n",
    "import pandas as pd\n",
    "import seaborn as sns\n",
    "import matplotlib.pyplot as plt\n",
    "import statsmodels.api as sm\n",
    "import os\n",
    "os.getcwd()\n",
    "\n",
    "import time\n",
    "import warnings \n",
    "warnings.filterwarnings('ignore')\n",
    "#%load_ext autotime"
   ]
  },
  {
   "cell_type": "code",
   "execution_count": 4,
   "id": "a07bce44",
   "metadata": {},
   "outputs": [
    {
     "data": {
      "text/html": [
       "<div>\n",
       "<style scoped>\n",
       "    .dataframe tbody tr th:only-of-type {\n",
       "        vertical-align: middle;\n",
       "    }\n",
       "\n",
       "    .dataframe tbody tr th {\n",
       "        vertical-align: top;\n",
       "    }\n",
       "\n",
       "    .dataframe thead th {\n",
       "        text-align: right;\n",
       "    }\n",
       "</style>\n",
       "<table border=\"1\" class=\"dataframe\">\n",
       "  <thead>\n",
       "    <tr style=\"text-align: right;\">\n",
       "      <th></th>\n",
       "      <th>HeartDisease</th>\n",
       "      <th>BMI</th>\n",
       "      <th>Smoking</th>\n",
       "      <th>AlcoholDrinking</th>\n",
       "      <th>Stroke</th>\n",
       "      <th>PhysicalHealth</th>\n",
       "      <th>MentalHealth</th>\n",
       "      <th>DiffWalking</th>\n",
       "      <th>Sex</th>\n",
       "      <th>AgeCategory</th>\n",
       "      <th>Race</th>\n",
       "      <th>Diabetic</th>\n",
       "      <th>PhysicalActivity</th>\n",
       "      <th>GenHealth</th>\n",
       "      <th>SleepTime</th>\n",
       "      <th>Asthma</th>\n",
       "      <th>KidneyDisease</th>\n",
       "      <th>SkinCancer</th>\n",
       "    </tr>\n",
       "  </thead>\n",
       "  <tbody>\n",
       "    <tr>\n",
       "      <th>0</th>\n",
       "      <td>No</td>\n",
       "      <td>16.60</td>\n",
       "      <td>Yes</td>\n",
       "      <td>No</td>\n",
       "      <td>No</td>\n",
       "      <td>3.0</td>\n",
       "      <td>30.0</td>\n",
       "      <td>No</td>\n",
       "      <td>Female</td>\n",
       "      <td>55-59</td>\n",
       "      <td>White</td>\n",
       "      <td>Yes</td>\n",
       "      <td>Yes</td>\n",
       "      <td>Very good</td>\n",
       "      <td>5.0</td>\n",
       "      <td>Yes</td>\n",
       "      <td>No</td>\n",
       "      <td>Yes</td>\n",
       "    </tr>\n",
       "    <tr>\n",
       "      <th>1</th>\n",
       "      <td>No</td>\n",
       "      <td>20.34</td>\n",
       "      <td>No</td>\n",
       "      <td>No</td>\n",
       "      <td>Yes</td>\n",
       "      <td>0.0</td>\n",
       "      <td>0.0</td>\n",
       "      <td>No</td>\n",
       "      <td>Female</td>\n",
       "      <td>80 or older</td>\n",
       "      <td>White</td>\n",
       "      <td>No</td>\n",
       "      <td>Yes</td>\n",
       "      <td>Very good</td>\n",
       "      <td>7.0</td>\n",
       "      <td>No</td>\n",
       "      <td>No</td>\n",
       "      <td>No</td>\n",
       "    </tr>\n",
       "    <tr>\n",
       "      <th>2</th>\n",
       "      <td>No</td>\n",
       "      <td>26.58</td>\n",
       "      <td>Yes</td>\n",
       "      <td>No</td>\n",
       "      <td>No</td>\n",
       "      <td>20.0</td>\n",
       "      <td>30.0</td>\n",
       "      <td>No</td>\n",
       "      <td>Male</td>\n",
       "      <td>65-69</td>\n",
       "      <td>White</td>\n",
       "      <td>Yes</td>\n",
       "      <td>Yes</td>\n",
       "      <td>Fair</td>\n",
       "      <td>8.0</td>\n",
       "      <td>Yes</td>\n",
       "      <td>No</td>\n",
       "      <td>No</td>\n",
       "    </tr>\n",
       "    <tr>\n",
       "      <th>3</th>\n",
       "      <td>No</td>\n",
       "      <td>24.21</td>\n",
       "      <td>No</td>\n",
       "      <td>No</td>\n",
       "      <td>No</td>\n",
       "      <td>0.0</td>\n",
       "      <td>0.0</td>\n",
       "      <td>No</td>\n",
       "      <td>Female</td>\n",
       "      <td>75-79</td>\n",
       "      <td>White</td>\n",
       "      <td>No</td>\n",
       "      <td>No</td>\n",
       "      <td>Good</td>\n",
       "      <td>6.0</td>\n",
       "      <td>No</td>\n",
       "      <td>No</td>\n",
       "      <td>Yes</td>\n",
       "    </tr>\n",
       "    <tr>\n",
       "      <th>4</th>\n",
       "      <td>No</td>\n",
       "      <td>23.71</td>\n",
       "      <td>No</td>\n",
       "      <td>No</td>\n",
       "      <td>No</td>\n",
       "      <td>28.0</td>\n",
       "      <td>0.0</td>\n",
       "      <td>Yes</td>\n",
       "      <td>Female</td>\n",
       "      <td>40-44</td>\n",
       "      <td>White</td>\n",
       "      <td>No</td>\n",
       "      <td>Yes</td>\n",
       "      <td>Very good</td>\n",
       "      <td>8.0</td>\n",
       "      <td>No</td>\n",
       "      <td>No</td>\n",
       "      <td>No</td>\n",
       "    </tr>\n",
       "    <tr>\n",
       "      <th>...</th>\n",
       "      <td>...</td>\n",
       "      <td>...</td>\n",
       "      <td>...</td>\n",
       "      <td>...</td>\n",
       "      <td>...</td>\n",
       "      <td>...</td>\n",
       "      <td>...</td>\n",
       "      <td>...</td>\n",
       "      <td>...</td>\n",
       "      <td>...</td>\n",
       "      <td>...</td>\n",
       "      <td>...</td>\n",
       "      <td>...</td>\n",
       "      <td>...</td>\n",
       "      <td>...</td>\n",
       "      <td>...</td>\n",
       "      <td>...</td>\n",
       "      <td>...</td>\n",
       "    </tr>\n",
       "    <tr>\n",
       "      <th>319790</th>\n",
       "      <td>Yes</td>\n",
       "      <td>27.41</td>\n",
       "      <td>Yes</td>\n",
       "      <td>No</td>\n",
       "      <td>No</td>\n",
       "      <td>7.0</td>\n",
       "      <td>0.0</td>\n",
       "      <td>Yes</td>\n",
       "      <td>Male</td>\n",
       "      <td>60-64</td>\n",
       "      <td>Hispanic</td>\n",
       "      <td>Yes</td>\n",
       "      <td>No</td>\n",
       "      <td>Fair</td>\n",
       "      <td>6.0</td>\n",
       "      <td>Yes</td>\n",
       "      <td>No</td>\n",
       "      <td>No</td>\n",
       "    </tr>\n",
       "    <tr>\n",
       "      <th>319791</th>\n",
       "      <td>No</td>\n",
       "      <td>29.84</td>\n",
       "      <td>Yes</td>\n",
       "      <td>No</td>\n",
       "      <td>No</td>\n",
       "      <td>0.0</td>\n",
       "      <td>0.0</td>\n",
       "      <td>No</td>\n",
       "      <td>Male</td>\n",
       "      <td>35-39</td>\n",
       "      <td>Hispanic</td>\n",
       "      <td>No</td>\n",
       "      <td>Yes</td>\n",
       "      <td>Very good</td>\n",
       "      <td>5.0</td>\n",
       "      <td>Yes</td>\n",
       "      <td>No</td>\n",
       "      <td>No</td>\n",
       "    </tr>\n",
       "    <tr>\n",
       "      <th>319792</th>\n",
       "      <td>No</td>\n",
       "      <td>24.24</td>\n",
       "      <td>No</td>\n",
       "      <td>No</td>\n",
       "      <td>No</td>\n",
       "      <td>0.0</td>\n",
       "      <td>0.0</td>\n",
       "      <td>No</td>\n",
       "      <td>Female</td>\n",
       "      <td>45-49</td>\n",
       "      <td>Hispanic</td>\n",
       "      <td>No</td>\n",
       "      <td>Yes</td>\n",
       "      <td>Good</td>\n",
       "      <td>6.0</td>\n",
       "      <td>No</td>\n",
       "      <td>No</td>\n",
       "      <td>No</td>\n",
       "    </tr>\n",
       "    <tr>\n",
       "      <th>319793</th>\n",
       "      <td>No</td>\n",
       "      <td>32.81</td>\n",
       "      <td>No</td>\n",
       "      <td>No</td>\n",
       "      <td>No</td>\n",
       "      <td>0.0</td>\n",
       "      <td>0.0</td>\n",
       "      <td>No</td>\n",
       "      <td>Female</td>\n",
       "      <td>25-29</td>\n",
       "      <td>Hispanic</td>\n",
       "      <td>No</td>\n",
       "      <td>No</td>\n",
       "      <td>Good</td>\n",
       "      <td>12.0</td>\n",
       "      <td>No</td>\n",
       "      <td>No</td>\n",
       "      <td>No</td>\n",
       "    </tr>\n",
       "    <tr>\n",
       "      <th>319794</th>\n",
       "      <td>No</td>\n",
       "      <td>46.56</td>\n",
       "      <td>No</td>\n",
       "      <td>No</td>\n",
       "      <td>No</td>\n",
       "      <td>0.0</td>\n",
       "      <td>0.0</td>\n",
       "      <td>No</td>\n",
       "      <td>Female</td>\n",
       "      <td>80 or older</td>\n",
       "      <td>Hispanic</td>\n",
       "      <td>No</td>\n",
       "      <td>Yes</td>\n",
       "      <td>Good</td>\n",
       "      <td>8.0</td>\n",
       "      <td>No</td>\n",
       "      <td>No</td>\n",
       "      <td>No</td>\n",
       "    </tr>\n",
       "  </tbody>\n",
       "</table>\n",
       "<p>319795 rows × 18 columns</p>\n",
       "</div>"
      ],
      "text/plain": [
       "       HeartDisease    BMI Smoking AlcoholDrinking Stroke  PhysicalHealth  \\\n",
       "0                No  16.60     Yes              No     No             3.0   \n",
       "1                No  20.34      No              No    Yes             0.0   \n",
       "2                No  26.58     Yes              No     No            20.0   \n",
       "3                No  24.21      No              No     No             0.0   \n",
       "4                No  23.71      No              No     No            28.0   \n",
       "...             ...    ...     ...             ...    ...             ...   \n",
       "319790          Yes  27.41     Yes              No     No             7.0   \n",
       "319791           No  29.84     Yes              No     No             0.0   \n",
       "319792           No  24.24      No              No     No             0.0   \n",
       "319793           No  32.81      No              No     No             0.0   \n",
       "319794           No  46.56      No              No     No             0.0   \n",
       "\n",
       "        MentalHealth DiffWalking     Sex  AgeCategory      Race Diabetic  \\\n",
       "0               30.0          No  Female        55-59     White      Yes   \n",
       "1                0.0          No  Female  80 or older     White       No   \n",
       "2               30.0          No    Male        65-69     White      Yes   \n",
       "3                0.0          No  Female        75-79     White       No   \n",
       "4                0.0         Yes  Female        40-44     White       No   \n",
       "...              ...         ...     ...          ...       ...      ...   \n",
       "319790           0.0         Yes    Male        60-64  Hispanic      Yes   \n",
       "319791           0.0          No    Male        35-39  Hispanic       No   \n",
       "319792           0.0          No  Female        45-49  Hispanic       No   \n",
       "319793           0.0          No  Female        25-29  Hispanic       No   \n",
       "319794           0.0          No  Female  80 or older  Hispanic       No   \n",
       "\n",
       "       PhysicalActivity  GenHealth  SleepTime Asthma KidneyDisease SkinCancer  \n",
       "0                   Yes  Very good        5.0    Yes            No        Yes  \n",
       "1                   Yes  Very good        7.0     No            No         No  \n",
       "2                   Yes       Fair        8.0    Yes            No         No  \n",
       "3                    No       Good        6.0     No            No        Yes  \n",
       "4                   Yes  Very good        8.0     No            No         No  \n",
       "...                 ...        ...        ...    ...           ...        ...  \n",
       "319790               No       Fair        6.0    Yes            No         No  \n",
       "319791              Yes  Very good        5.0    Yes            No         No  \n",
       "319792              Yes       Good        6.0     No            No         No  \n",
       "319793               No       Good       12.0     No            No         No  \n",
       "319794              Yes       Good        8.0     No            No         No  \n",
       "\n",
       "[319795 rows x 18 columns]"
      ]
     },
     "execution_count": 4,
     "metadata": {},
     "output_type": "execute_result"
    }
   ],
   "source": [
    "full_df = pd.read_csv('heart_2020.csv')\n",
    "full_df"
   ]
  },
  {
   "cell_type": "code",
   "execution_count": 3,
   "id": "92ddece3",
   "metadata": {
    "scrolled": true
   },
   "outputs": [
    {
     "data": {
      "text/html": [
       "<div>\n",
       "<style scoped>\n",
       "    .dataframe tbody tr th:only-of-type {\n",
       "        vertical-align: middle;\n",
       "    }\n",
       "\n",
       "    .dataframe tbody tr th {\n",
       "        vertical-align: top;\n",
       "    }\n",
       "\n",
       "    .dataframe thead th {\n",
       "        text-align: right;\n",
       "    }\n",
       "</style>\n",
       "<table border=\"1\" class=\"dataframe\">\n",
       "  <thead>\n",
       "    <tr style=\"text-align: right;\">\n",
       "      <th></th>\n",
       "      <th>HeartDisease</th>\n",
       "      <th>BMI</th>\n",
       "      <th>Smoking</th>\n",
       "      <th>AlcoholDrinking</th>\n",
       "      <th>Stroke</th>\n",
       "      <th>PhysicalHealth</th>\n",
       "      <th>MentalHealth</th>\n",
       "      <th>DiffWalking</th>\n",
       "      <th>Sex</th>\n",
       "      <th>AgeCategory</th>\n",
       "      <th>Race</th>\n",
       "      <th>Diabetic</th>\n",
       "      <th>PhysicalActivity</th>\n",
       "      <th>GenHealth</th>\n",
       "      <th>SleepTime</th>\n",
       "      <th>Asthma</th>\n",
       "      <th>KidneyDisease</th>\n",
       "      <th>SkinCancer</th>\n",
       "    </tr>\n",
       "  </thead>\n",
       "  <tbody>\n",
       "    <tr>\n",
       "      <th>count</th>\n",
       "      <td>319795</td>\n",
       "      <td>319795.000000</td>\n",
       "      <td>319795</td>\n",
       "      <td>319795</td>\n",
       "      <td>319795</td>\n",
       "      <td>319795.00000</td>\n",
       "      <td>319795.000000</td>\n",
       "      <td>319795</td>\n",
       "      <td>319795</td>\n",
       "      <td>319795</td>\n",
       "      <td>319795</td>\n",
       "      <td>319795</td>\n",
       "      <td>319795</td>\n",
       "      <td>319795</td>\n",
       "      <td>319795.000000</td>\n",
       "      <td>319795</td>\n",
       "      <td>319795</td>\n",
       "      <td>319795</td>\n",
       "    </tr>\n",
       "    <tr>\n",
       "      <th>unique</th>\n",
       "      <td>2</td>\n",
       "      <td>NaN</td>\n",
       "      <td>2</td>\n",
       "      <td>2</td>\n",
       "      <td>2</td>\n",
       "      <td>NaN</td>\n",
       "      <td>NaN</td>\n",
       "      <td>2</td>\n",
       "      <td>2</td>\n",
       "      <td>13</td>\n",
       "      <td>6</td>\n",
       "      <td>4</td>\n",
       "      <td>2</td>\n",
       "      <td>5</td>\n",
       "      <td>NaN</td>\n",
       "      <td>2</td>\n",
       "      <td>2</td>\n",
       "      <td>2</td>\n",
       "    </tr>\n",
       "    <tr>\n",
       "      <th>top</th>\n",
       "      <td>No</td>\n",
       "      <td>NaN</td>\n",
       "      <td>No</td>\n",
       "      <td>No</td>\n",
       "      <td>No</td>\n",
       "      <td>NaN</td>\n",
       "      <td>NaN</td>\n",
       "      <td>No</td>\n",
       "      <td>Female</td>\n",
       "      <td>65-69</td>\n",
       "      <td>White</td>\n",
       "      <td>No</td>\n",
       "      <td>Yes</td>\n",
       "      <td>Very good</td>\n",
       "      <td>NaN</td>\n",
       "      <td>No</td>\n",
       "      <td>No</td>\n",
       "      <td>No</td>\n",
       "    </tr>\n",
       "    <tr>\n",
       "      <th>freq</th>\n",
       "      <td>292422</td>\n",
       "      <td>NaN</td>\n",
       "      <td>187887</td>\n",
       "      <td>298018</td>\n",
       "      <td>307726</td>\n",
       "      <td>NaN</td>\n",
       "      <td>NaN</td>\n",
       "      <td>275385</td>\n",
       "      <td>167805</td>\n",
       "      <td>34151</td>\n",
       "      <td>245212</td>\n",
       "      <td>269653</td>\n",
       "      <td>247957</td>\n",
       "      <td>113858</td>\n",
       "      <td>NaN</td>\n",
       "      <td>276923</td>\n",
       "      <td>308016</td>\n",
       "      <td>289976</td>\n",
       "    </tr>\n",
       "    <tr>\n",
       "      <th>mean</th>\n",
       "      <td>NaN</td>\n",
       "      <td>28.325399</td>\n",
       "      <td>NaN</td>\n",
       "      <td>NaN</td>\n",
       "      <td>NaN</td>\n",
       "      <td>3.37171</td>\n",
       "      <td>3.898366</td>\n",
       "      <td>NaN</td>\n",
       "      <td>NaN</td>\n",
       "      <td>NaN</td>\n",
       "      <td>NaN</td>\n",
       "      <td>NaN</td>\n",
       "      <td>NaN</td>\n",
       "      <td>NaN</td>\n",
       "      <td>7.097075</td>\n",
       "      <td>NaN</td>\n",
       "      <td>NaN</td>\n",
       "      <td>NaN</td>\n",
       "    </tr>\n",
       "    <tr>\n",
       "      <th>std</th>\n",
       "      <td>NaN</td>\n",
       "      <td>6.356100</td>\n",
       "      <td>NaN</td>\n",
       "      <td>NaN</td>\n",
       "      <td>NaN</td>\n",
       "      <td>7.95085</td>\n",
       "      <td>7.955235</td>\n",
       "      <td>NaN</td>\n",
       "      <td>NaN</td>\n",
       "      <td>NaN</td>\n",
       "      <td>NaN</td>\n",
       "      <td>NaN</td>\n",
       "      <td>NaN</td>\n",
       "      <td>NaN</td>\n",
       "      <td>1.436007</td>\n",
       "      <td>NaN</td>\n",
       "      <td>NaN</td>\n",
       "      <td>NaN</td>\n",
       "    </tr>\n",
       "    <tr>\n",
       "      <th>min</th>\n",
       "      <td>NaN</td>\n",
       "      <td>12.020000</td>\n",
       "      <td>NaN</td>\n",
       "      <td>NaN</td>\n",
       "      <td>NaN</td>\n",
       "      <td>0.00000</td>\n",
       "      <td>0.000000</td>\n",
       "      <td>NaN</td>\n",
       "      <td>NaN</td>\n",
       "      <td>NaN</td>\n",
       "      <td>NaN</td>\n",
       "      <td>NaN</td>\n",
       "      <td>NaN</td>\n",
       "      <td>NaN</td>\n",
       "      <td>1.000000</td>\n",
       "      <td>NaN</td>\n",
       "      <td>NaN</td>\n",
       "      <td>NaN</td>\n",
       "    </tr>\n",
       "    <tr>\n",
       "      <th>25%</th>\n",
       "      <td>NaN</td>\n",
       "      <td>24.030000</td>\n",
       "      <td>NaN</td>\n",
       "      <td>NaN</td>\n",
       "      <td>NaN</td>\n",
       "      <td>0.00000</td>\n",
       "      <td>0.000000</td>\n",
       "      <td>NaN</td>\n",
       "      <td>NaN</td>\n",
       "      <td>NaN</td>\n",
       "      <td>NaN</td>\n",
       "      <td>NaN</td>\n",
       "      <td>NaN</td>\n",
       "      <td>NaN</td>\n",
       "      <td>6.000000</td>\n",
       "      <td>NaN</td>\n",
       "      <td>NaN</td>\n",
       "      <td>NaN</td>\n",
       "    </tr>\n",
       "    <tr>\n",
       "      <th>50%</th>\n",
       "      <td>NaN</td>\n",
       "      <td>27.340000</td>\n",
       "      <td>NaN</td>\n",
       "      <td>NaN</td>\n",
       "      <td>NaN</td>\n",
       "      <td>0.00000</td>\n",
       "      <td>0.000000</td>\n",
       "      <td>NaN</td>\n",
       "      <td>NaN</td>\n",
       "      <td>NaN</td>\n",
       "      <td>NaN</td>\n",
       "      <td>NaN</td>\n",
       "      <td>NaN</td>\n",
       "      <td>NaN</td>\n",
       "      <td>7.000000</td>\n",
       "      <td>NaN</td>\n",
       "      <td>NaN</td>\n",
       "      <td>NaN</td>\n",
       "    </tr>\n",
       "    <tr>\n",
       "      <th>75%</th>\n",
       "      <td>NaN</td>\n",
       "      <td>31.420000</td>\n",
       "      <td>NaN</td>\n",
       "      <td>NaN</td>\n",
       "      <td>NaN</td>\n",
       "      <td>2.00000</td>\n",
       "      <td>3.000000</td>\n",
       "      <td>NaN</td>\n",
       "      <td>NaN</td>\n",
       "      <td>NaN</td>\n",
       "      <td>NaN</td>\n",
       "      <td>NaN</td>\n",
       "      <td>NaN</td>\n",
       "      <td>NaN</td>\n",
       "      <td>8.000000</td>\n",
       "      <td>NaN</td>\n",
       "      <td>NaN</td>\n",
       "      <td>NaN</td>\n",
       "    </tr>\n",
       "    <tr>\n",
       "      <th>max</th>\n",
       "      <td>NaN</td>\n",
       "      <td>94.850000</td>\n",
       "      <td>NaN</td>\n",
       "      <td>NaN</td>\n",
       "      <td>NaN</td>\n",
       "      <td>30.00000</td>\n",
       "      <td>30.000000</td>\n",
       "      <td>NaN</td>\n",
       "      <td>NaN</td>\n",
       "      <td>NaN</td>\n",
       "      <td>NaN</td>\n",
       "      <td>NaN</td>\n",
       "      <td>NaN</td>\n",
       "      <td>NaN</td>\n",
       "      <td>24.000000</td>\n",
       "      <td>NaN</td>\n",
       "      <td>NaN</td>\n",
       "      <td>NaN</td>\n",
       "    </tr>\n",
       "  </tbody>\n",
       "</table>\n",
       "</div>"
      ],
      "text/plain": [
       "       HeartDisease            BMI Smoking AlcoholDrinking  Stroke  \\\n",
       "count        319795  319795.000000  319795          319795  319795   \n",
       "unique            2            NaN       2               2       2   \n",
       "top              No            NaN      No              No      No   \n",
       "freq         292422            NaN  187887          298018  307726   \n",
       "mean            NaN      28.325399     NaN             NaN     NaN   \n",
       "std             NaN       6.356100     NaN             NaN     NaN   \n",
       "min             NaN      12.020000     NaN             NaN     NaN   \n",
       "25%             NaN      24.030000     NaN             NaN     NaN   \n",
       "50%             NaN      27.340000     NaN             NaN     NaN   \n",
       "75%             NaN      31.420000     NaN             NaN     NaN   \n",
       "max             NaN      94.850000     NaN             NaN     NaN   \n",
       "\n",
       "        PhysicalHealth   MentalHealth DiffWalking     Sex AgeCategory    Race  \\\n",
       "count     319795.00000  319795.000000      319795  319795      319795  319795   \n",
       "unique             NaN            NaN           2       2          13       6   \n",
       "top                NaN            NaN          No  Female       65-69   White   \n",
       "freq               NaN            NaN      275385  167805       34151  245212   \n",
       "mean           3.37171       3.898366         NaN     NaN         NaN     NaN   \n",
       "std            7.95085       7.955235         NaN     NaN         NaN     NaN   \n",
       "min            0.00000       0.000000         NaN     NaN         NaN     NaN   \n",
       "25%            0.00000       0.000000         NaN     NaN         NaN     NaN   \n",
       "50%            0.00000       0.000000         NaN     NaN         NaN     NaN   \n",
       "75%            2.00000       3.000000         NaN     NaN         NaN     NaN   \n",
       "max           30.00000      30.000000         NaN     NaN         NaN     NaN   \n",
       "\n",
       "       Diabetic PhysicalActivity  GenHealth      SleepTime  Asthma  \\\n",
       "count    319795           319795     319795  319795.000000  319795   \n",
       "unique        4                2          5            NaN       2   \n",
       "top          No              Yes  Very good            NaN      No   \n",
       "freq     269653           247957     113858            NaN  276923   \n",
       "mean        NaN              NaN        NaN       7.097075     NaN   \n",
       "std         NaN              NaN        NaN       1.436007     NaN   \n",
       "min         NaN              NaN        NaN       1.000000     NaN   \n",
       "25%         NaN              NaN        NaN       6.000000     NaN   \n",
       "50%         NaN              NaN        NaN       7.000000     NaN   \n",
       "75%         NaN              NaN        NaN       8.000000     NaN   \n",
       "max         NaN              NaN        NaN      24.000000     NaN   \n",
       "\n",
       "       KidneyDisease SkinCancer  \n",
       "count         319795     319795  \n",
       "unique             2          2  \n",
       "top               No         No  \n",
       "freq          308016     289976  \n",
       "mean             NaN        NaN  \n",
       "std              NaN        NaN  \n",
       "min              NaN        NaN  \n",
       "25%              NaN        NaN  \n",
       "50%              NaN        NaN  \n",
       "75%              NaN        NaN  \n",
       "max              NaN        NaN  "
      ]
     },
     "execution_count": 3,
     "metadata": {},
     "output_type": "execute_result"
    },
    {
     "name": "stdout",
     "output_type": "stream",
     "text": [
      "time: 375 ms (started: 2022-05-06 19:29:24 +05:00)\n"
     ]
    }
   ],
   "source": [
    "full_df.describe(include = 'all')"
   ]
  },
  {
   "cell_type": "code",
   "execution_count": 5,
   "id": "64c7b918",
   "metadata": {
    "scrolled": true
   },
   "outputs": [
    {
     "data": {
      "text/html": [
       "<div>\n",
       "<style scoped>\n",
       "    .dataframe tbody tr th:only-of-type {\n",
       "        vertical-align: middle;\n",
       "    }\n",
       "\n",
       "    .dataframe tbody tr th {\n",
       "        vertical-align: top;\n",
       "    }\n",
       "\n",
       "    .dataframe thead th {\n",
       "        text-align: right;\n",
       "    }\n",
       "</style>\n",
       "<table border=\"1\" class=\"dataframe\">\n",
       "  <thead>\n",
       "    <tr style=\"text-align: right;\">\n",
       "      <th></th>\n",
       "      <th>HeartDisease</th>\n",
       "      <th>BMI</th>\n",
       "      <th>Smoking</th>\n",
       "      <th>AlcoholDrinking</th>\n",
       "      <th>Stroke</th>\n",
       "      <th>PhysicalHealth</th>\n",
       "      <th>MentalHealth</th>\n",
       "      <th>DiffWalking</th>\n",
       "      <th>Sex</th>\n",
       "      <th>AgeCategory</th>\n",
       "      <th>Race</th>\n",
       "      <th>Diabetic</th>\n",
       "      <th>PhysicalActivity</th>\n",
       "      <th>GenHealth</th>\n",
       "      <th>SleepTime</th>\n",
       "      <th>Asthma</th>\n",
       "      <th>KidneyDisease</th>\n",
       "      <th>SkinCancer</th>\n",
       "    </tr>\n",
       "  </thead>\n",
       "  <tbody>\n",
       "    <tr>\n",
       "      <th>0</th>\n",
       "      <td>0</td>\n",
       "      <td>16.60</td>\n",
       "      <td>Yes</td>\n",
       "      <td>No</td>\n",
       "      <td>No</td>\n",
       "      <td>3.0</td>\n",
       "      <td>30.0</td>\n",
       "      <td>No</td>\n",
       "      <td>Female</td>\n",
       "      <td>55-59</td>\n",
       "      <td>White</td>\n",
       "      <td>Yes</td>\n",
       "      <td>Yes</td>\n",
       "      <td>Very good</td>\n",
       "      <td>5.0</td>\n",
       "      <td>Yes</td>\n",
       "      <td>No</td>\n",
       "      <td>Yes</td>\n",
       "    </tr>\n",
       "    <tr>\n",
       "      <th>1</th>\n",
       "      <td>0</td>\n",
       "      <td>20.34</td>\n",
       "      <td>No</td>\n",
       "      <td>No</td>\n",
       "      <td>Yes</td>\n",
       "      <td>0.0</td>\n",
       "      <td>0.0</td>\n",
       "      <td>No</td>\n",
       "      <td>Female</td>\n",
       "      <td>80 or older</td>\n",
       "      <td>White</td>\n",
       "      <td>No</td>\n",
       "      <td>Yes</td>\n",
       "      <td>Very good</td>\n",
       "      <td>7.0</td>\n",
       "      <td>No</td>\n",
       "      <td>No</td>\n",
       "      <td>No</td>\n",
       "    </tr>\n",
       "    <tr>\n",
       "      <th>2</th>\n",
       "      <td>0</td>\n",
       "      <td>26.58</td>\n",
       "      <td>Yes</td>\n",
       "      <td>No</td>\n",
       "      <td>No</td>\n",
       "      <td>20.0</td>\n",
       "      <td>30.0</td>\n",
       "      <td>No</td>\n",
       "      <td>Male</td>\n",
       "      <td>65-69</td>\n",
       "      <td>White</td>\n",
       "      <td>Yes</td>\n",
       "      <td>Yes</td>\n",
       "      <td>Fair</td>\n",
       "      <td>8.0</td>\n",
       "      <td>Yes</td>\n",
       "      <td>No</td>\n",
       "      <td>No</td>\n",
       "    </tr>\n",
       "    <tr>\n",
       "      <th>3</th>\n",
       "      <td>0</td>\n",
       "      <td>24.21</td>\n",
       "      <td>No</td>\n",
       "      <td>No</td>\n",
       "      <td>No</td>\n",
       "      <td>0.0</td>\n",
       "      <td>0.0</td>\n",
       "      <td>No</td>\n",
       "      <td>Female</td>\n",
       "      <td>75-79</td>\n",
       "      <td>White</td>\n",
       "      <td>No</td>\n",
       "      <td>No</td>\n",
       "      <td>Good</td>\n",
       "      <td>6.0</td>\n",
       "      <td>No</td>\n",
       "      <td>No</td>\n",
       "      <td>Yes</td>\n",
       "    </tr>\n",
       "    <tr>\n",
       "      <th>4</th>\n",
       "      <td>0</td>\n",
       "      <td>23.71</td>\n",
       "      <td>No</td>\n",
       "      <td>No</td>\n",
       "      <td>No</td>\n",
       "      <td>28.0</td>\n",
       "      <td>0.0</td>\n",
       "      <td>Yes</td>\n",
       "      <td>Female</td>\n",
       "      <td>40-44</td>\n",
       "      <td>White</td>\n",
       "      <td>No</td>\n",
       "      <td>Yes</td>\n",
       "      <td>Very good</td>\n",
       "      <td>8.0</td>\n",
       "      <td>No</td>\n",
       "      <td>No</td>\n",
       "      <td>No</td>\n",
       "    </tr>\n",
       "    <tr>\n",
       "      <th>...</th>\n",
       "      <td>...</td>\n",
       "      <td>...</td>\n",
       "      <td>...</td>\n",
       "      <td>...</td>\n",
       "      <td>...</td>\n",
       "      <td>...</td>\n",
       "      <td>...</td>\n",
       "      <td>...</td>\n",
       "      <td>...</td>\n",
       "      <td>...</td>\n",
       "      <td>...</td>\n",
       "      <td>...</td>\n",
       "      <td>...</td>\n",
       "      <td>...</td>\n",
       "      <td>...</td>\n",
       "      <td>...</td>\n",
       "      <td>...</td>\n",
       "      <td>...</td>\n",
       "    </tr>\n",
       "    <tr>\n",
       "      <th>319790</th>\n",
       "      <td>1</td>\n",
       "      <td>27.41</td>\n",
       "      <td>Yes</td>\n",
       "      <td>No</td>\n",
       "      <td>No</td>\n",
       "      <td>7.0</td>\n",
       "      <td>0.0</td>\n",
       "      <td>Yes</td>\n",
       "      <td>Male</td>\n",
       "      <td>60-64</td>\n",
       "      <td>Hispanic</td>\n",
       "      <td>Yes</td>\n",
       "      <td>No</td>\n",
       "      <td>Fair</td>\n",
       "      <td>6.0</td>\n",
       "      <td>Yes</td>\n",
       "      <td>No</td>\n",
       "      <td>No</td>\n",
       "    </tr>\n",
       "    <tr>\n",
       "      <th>319791</th>\n",
       "      <td>0</td>\n",
       "      <td>29.84</td>\n",
       "      <td>Yes</td>\n",
       "      <td>No</td>\n",
       "      <td>No</td>\n",
       "      <td>0.0</td>\n",
       "      <td>0.0</td>\n",
       "      <td>No</td>\n",
       "      <td>Male</td>\n",
       "      <td>35-39</td>\n",
       "      <td>Hispanic</td>\n",
       "      <td>No</td>\n",
       "      <td>Yes</td>\n",
       "      <td>Very good</td>\n",
       "      <td>5.0</td>\n",
       "      <td>Yes</td>\n",
       "      <td>No</td>\n",
       "      <td>No</td>\n",
       "    </tr>\n",
       "    <tr>\n",
       "      <th>319792</th>\n",
       "      <td>0</td>\n",
       "      <td>24.24</td>\n",
       "      <td>No</td>\n",
       "      <td>No</td>\n",
       "      <td>No</td>\n",
       "      <td>0.0</td>\n",
       "      <td>0.0</td>\n",
       "      <td>No</td>\n",
       "      <td>Female</td>\n",
       "      <td>45-49</td>\n",
       "      <td>Hispanic</td>\n",
       "      <td>No</td>\n",
       "      <td>Yes</td>\n",
       "      <td>Good</td>\n",
       "      <td>6.0</td>\n",
       "      <td>No</td>\n",
       "      <td>No</td>\n",
       "      <td>No</td>\n",
       "    </tr>\n",
       "    <tr>\n",
       "      <th>319793</th>\n",
       "      <td>0</td>\n",
       "      <td>32.81</td>\n",
       "      <td>No</td>\n",
       "      <td>No</td>\n",
       "      <td>No</td>\n",
       "      <td>0.0</td>\n",
       "      <td>0.0</td>\n",
       "      <td>No</td>\n",
       "      <td>Female</td>\n",
       "      <td>25-29</td>\n",
       "      <td>Hispanic</td>\n",
       "      <td>No</td>\n",
       "      <td>No</td>\n",
       "      <td>Good</td>\n",
       "      <td>12.0</td>\n",
       "      <td>No</td>\n",
       "      <td>No</td>\n",
       "      <td>No</td>\n",
       "    </tr>\n",
       "    <tr>\n",
       "      <th>319794</th>\n",
       "      <td>0</td>\n",
       "      <td>46.56</td>\n",
       "      <td>No</td>\n",
       "      <td>No</td>\n",
       "      <td>No</td>\n",
       "      <td>0.0</td>\n",
       "      <td>0.0</td>\n",
       "      <td>No</td>\n",
       "      <td>Female</td>\n",
       "      <td>80 or older</td>\n",
       "      <td>Hispanic</td>\n",
       "      <td>No</td>\n",
       "      <td>Yes</td>\n",
       "      <td>Good</td>\n",
       "      <td>8.0</td>\n",
       "      <td>No</td>\n",
       "      <td>No</td>\n",
       "      <td>No</td>\n",
       "    </tr>\n",
       "  </tbody>\n",
       "</table>\n",
       "<p>319795 rows × 18 columns</p>\n",
       "</div>"
      ],
      "text/plain": [
       "        HeartDisease    BMI Smoking AlcoholDrinking Stroke  PhysicalHealth  \\\n",
       "0                  0  16.60     Yes              No     No             3.0   \n",
       "1                  0  20.34      No              No    Yes             0.0   \n",
       "2                  0  26.58     Yes              No     No            20.0   \n",
       "3                  0  24.21      No              No     No             0.0   \n",
       "4                  0  23.71      No              No     No            28.0   \n",
       "...              ...    ...     ...             ...    ...             ...   \n",
       "319790             1  27.41     Yes              No     No             7.0   \n",
       "319791             0  29.84     Yes              No     No             0.0   \n",
       "319792             0  24.24      No              No     No             0.0   \n",
       "319793             0  32.81      No              No     No             0.0   \n",
       "319794             0  46.56      No              No     No             0.0   \n",
       "\n",
       "        MentalHealth DiffWalking     Sex  AgeCategory      Race Diabetic  \\\n",
       "0               30.0          No  Female        55-59     White      Yes   \n",
       "1                0.0          No  Female  80 or older     White       No   \n",
       "2               30.0          No    Male        65-69     White      Yes   \n",
       "3                0.0          No  Female        75-79     White       No   \n",
       "4                0.0         Yes  Female        40-44     White       No   \n",
       "...              ...         ...     ...          ...       ...      ...   \n",
       "319790           0.0         Yes    Male        60-64  Hispanic      Yes   \n",
       "319791           0.0          No    Male        35-39  Hispanic       No   \n",
       "319792           0.0          No  Female        45-49  Hispanic       No   \n",
       "319793           0.0          No  Female        25-29  Hispanic       No   \n",
       "319794           0.0          No  Female  80 or older  Hispanic       No   \n",
       "\n",
       "       PhysicalActivity  GenHealth  SleepTime Asthma KidneyDisease SkinCancer  \n",
       "0                   Yes  Very good        5.0    Yes            No        Yes  \n",
       "1                   Yes  Very good        7.0     No            No         No  \n",
       "2                   Yes       Fair        8.0    Yes            No         No  \n",
       "3                    No       Good        6.0     No            No        Yes  \n",
       "4                   Yes  Very good        8.0     No            No         No  \n",
       "...                 ...        ...        ...    ...           ...        ...  \n",
       "319790               No       Fair        6.0    Yes            No         No  \n",
       "319791              Yes  Very good        5.0    Yes            No         No  \n",
       "319792              Yes       Good        6.0     No            No         No  \n",
       "319793               No       Good       12.0     No            No         No  \n",
       "319794              Yes       Good        8.0     No            No         No  \n",
       "\n",
       "[319795 rows x 18 columns]"
      ]
     },
     "execution_count": 5,
     "metadata": {},
     "output_type": "execute_result"
    }
   ],
   "source": [
    "#Converting dependent variable into binary codes\n",
    "full_df[\"HeartDisease\"] = pd.Categorical(full_df[\"HeartDisease\"]).codes\n",
    "full_df"
   ]
  },
  {
   "cell_type": "code",
   "execution_count": 4,
   "id": "fe164df9",
   "metadata": {},
   "outputs": [
    {
     "data": {
      "text/plain": [
       "HeartDisease        0\n",
       "BMI                 0\n",
       "Smoking             0\n",
       "AlcoholDrinking     0\n",
       "Stroke              0\n",
       "PhysicalHealth      0\n",
       "MentalHealth        0\n",
       "DiffWalking         0\n",
       "Sex                 0\n",
       "AgeCategory         0\n",
       "Race                0\n",
       "Diabetic            0\n",
       "PhysicalActivity    0\n",
       "GenHealth           0\n",
       "SleepTime           0\n",
       "Asthma              0\n",
       "KidneyDisease       0\n",
       "SkinCancer          0\n",
       "dtype: int64"
      ]
     },
     "execution_count": 4,
     "metadata": {},
     "output_type": "execute_result"
    },
    {
     "name": "stdout",
     "output_type": "stream",
     "text": [
      "time: 109 ms (started: 2022-05-06 19:29:25 +05:00)\n"
     ]
    }
   ],
   "source": [
    "full_df.isnull().sum()"
   ]
  },
  {
   "cell_type": "code",
   "execution_count": 25,
   "id": "77c9829c",
   "metadata": {},
   "outputs": [
    {
     "data": {
      "text/html": [
       "<div>\n",
       "<style scoped>\n",
       "    .dataframe tbody tr th:only-of-type {\n",
       "        vertical-align: middle;\n",
       "    }\n",
       "\n",
       "    .dataframe tbody tr th {\n",
       "        vertical-align: top;\n",
       "    }\n",
       "\n",
       "    .dataframe thead th {\n",
       "        text-align: right;\n",
       "    }\n",
       "</style>\n",
       "<table border=\"1\" class=\"dataframe\">\n",
       "  <thead>\n",
       "    <tr style=\"text-align: right;\">\n",
       "      <th></th>\n",
       "      <th>BMI</th>\n",
       "      <th>PhysicalHealth</th>\n",
       "      <th>MentalHealth</th>\n",
       "      <th>SleepTime</th>\n",
       "      <th>Smoking_Yes</th>\n",
       "      <th>AlcoholDrinking_Yes</th>\n",
       "      <th>Stroke_Yes</th>\n",
       "      <th>DiffWalking_Yes</th>\n",
       "      <th>Sex_Male</th>\n",
       "      <th>AgeCategory_25-29</th>\n",
       "      <th>...</th>\n",
       "      <th>Diabetic_Yes</th>\n",
       "      <th>Diabetic_Yes (during pregnancy)</th>\n",
       "      <th>PhysicalActivity_Yes</th>\n",
       "      <th>GenHealth_Fair</th>\n",
       "      <th>GenHealth_Good</th>\n",
       "      <th>GenHealth_Poor</th>\n",
       "      <th>GenHealth_Very good</th>\n",
       "      <th>Asthma_Yes</th>\n",
       "      <th>KidneyDisease_Yes</th>\n",
       "      <th>SkinCancer_Yes</th>\n",
       "    </tr>\n",
       "  </thead>\n",
       "  <tbody>\n",
       "    <tr>\n",
       "      <th>0</th>\n",
       "      <td>0.055294</td>\n",
       "      <td>0.100000</td>\n",
       "      <td>1.0</td>\n",
       "      <td>0.173913</td>\n",
       "      <td>1.0</td>\n",
       "      <td>0.0</td>\n",
       "      <td>0.0</td>\n",
       "      <td>0.0</td>\n",
       "      <td>0.0</td>\n",
       "      <td>0.0</td>\n",
       "      <td>...</td>\n",
       "      <td>1.0</td>\n",
       "      <td>0.0</td>\n",
       "      <td>1.0</td>\n",
       "      <td>0.0</td>\n",
       "      <td>0.0</td>\n",
       "      <td>0.0</td>\n",
       "      <td>1.0</td>\n",
       "      <td>1.0</td>\n",
       "      <td>0.0</td>\n",
       "      <td>1.0</td>\n",
       "    </tr>\n",
       "    <tr>\n",
       "      <th>1</th>\n",
       "      <td>0.100447</td>\n",
       "      <td>0.000000</td>\n",
       "      <td>0.0</td>\n",
       "      <td>0.260870</td>\n",
       "      <td>0.0</td>\n",
       "      <td>0.0</td>\n",
       "      <td>1.0</td>\n",
       "      <td>0.0</td>\n",
       "      <td>0.0</td>\n",
       "      <td>0.0</td>\n",
       "      <td>...</td>\n",
       "      <td>0.0</td>\n",
       "      <td>0.0</td>\n",
       "      <td>1.0</td>\n",
       "      <td>0.0</td>\n",
       "      <td>0.0</td>\n",
       "      <td>0.0</td>\n",
       "      <td>1.0</td>\n",
       "      <td>0.0</td>\n",
       "      <td>0.0</td>\n",
       "      <td>0.0</td>\n",
       "    </tr>\n",
       "    <tr>\n",
       "      <th>2</th>\n",
       "      <td>0.175782</td>\n",
       "      <td>0.666667</td>\n",
       "      <td>1.0</td>\n",
       "      <td>0.304348</td>\n",
       "      <td>1.0</td>\n",
       "      <td>0.0</td>\n",
       "      <td>0.0</td>\n",
       "      <td>0.0</td>\n",
       "      <td>1.0</td>\n",
       "      <td>0.0</td>\n",
       "      <td>...</td>\n",
       "      <td>1.0</td>\n",
       "      <td>0.0</td>\n",
       "      <td>1.0</td>\n",
       "      <td>1.0</td>\n",
       "      <td>0.0</td>\n",
       "      <td>0.0</td>\n",
       "      <td>0.0</td>\n",
       "      <td>1.0</td>\n",
       "      <td>0.0</td>\n",
       "      <td>0.0</td>\n",
       "    </tr>\n",
       "    <tr>\n",
       "      <th>3</th>\n",
       "      <td>0.147169</td>\n",
       "      <td>0.000000</td>\n",
       "      <td>0.0</td>\n",
       "      <td>0.217391</td>\n",
       "      <td>0.0</td>\n",
       "      <td>0.0</td>\n",
       "      <td>0.0</td>\n",
       "      <td>0.0</td>\n",
       "      <td>0.0</td>\n",
       "      <td>0.0</td>\n",
       "      <td>...</td>\n",
       "      <td>0.0</td>\n",
       "      <td>0.0</td>\n",
       "      <td>0.0</td>\n",
       "      <td>0.0</td>\n",
       "      <td>1.0</td>\n",
       "      <td>0.0</td>\n",
       "      <td>0.0</td>\n",
       "      <td>0.0</td>\n",
       "      <td>0.0</td>\n",
       "      <td>1.0</td>\n",
       "    </tr>\n",
       "    <tr>\n",
       "      <th>4</th>\n",
       "      <td>0.141132</td>\n",
       "      <td>0.933333</td>\n",
       "      <td>0.0</td>\n",
       "      <td>0.304348</td>\n",
       "      <td>0.0</td>\n",
       "      <td>0.0</td>\n",
       "      <td>0.0</td>\n",
       "      <td>1.0</td>\n",
       "      <td>0.0</td>\n",
       "      <td>0.0</td>\n",
       "      <td>...</td>\n",
       "      <td>0.0</td>\n",
       "      <td>0.0</td>\n",
       "      <td>1.0</td>\n",
       "      <td>0.0</td>\n",
       "      <td>0.0</td>\n",
       "      <td>0.0</td>\n",
       "      <td>1.0</td>\n",
       "      <td>0.0</td>\n",
       "      <td>0.0</td>\n",
       "      <td>0.0</td>\n",
       "    </tr>\n",
       "    <tr>\n",
       "      <th>...</th>\n",
       "      <td>...</td>\n",
       "      <td>...</td>\n",
       "      <td>...</td>\n",
       "      <td>...</td>\n",
       "      <td>...</td>\n",
       "      <td>...</td>\n",
       "      <td>...</td>\n",
       "      <td>...</td>\n",
       "      <td>...</td>\n",
       "      <td>...</td>\n",
       "      <td>...</td>\n",
       "      <td>...</td>\n",
       "      <td>...</td>\n",
       "      <td>...</td>\n",
       "      <td>...</td>\n",
       "      <td>...</td>\n",
       "      <td>...</td>\n",
       "      <td>...</td>\n",
       "      <td>...</td>\n",
       "      <td>...</td>\n",
       "      <td>...</td>\n",
       "    </tr>\n",
       "    <tr>\n",
       "      <th>319790</th>\n",
       "      <td>0.185802</td>\n",
       "      <td>0.233333</td>\n",
       "      <td>0.0</td>\n",
       "      <td>0.217391</td>\n",
       "      <td>1.0</td>\n",
       "      <td>0.0</td>\n",
       "      <td>0.0</td>\n",
       "      <td>1.0</td>\n",
       "      <td>1.0</td>\n",
       "      <td>0.0</td>\n",
       "      <td>...</td>\n",
       "      <td>1.0</td>\n",
       "      <td>0.0</td>\n",
       "      <td>0.0</td>\n",
       "      <td>1.0</td>\n",
       "      <td>0.0</td>\n",
       "      <td>0.0</td>\n",
       "      <td>0.0</td>\n",
       "      <td>1.0</td>\n",
       "      <td>0.0</td>\n",
       "      <td>0.0</td>\n",
       "    </tr>\n",
       "    <tr>\n",
       "      <th>319791</th>\n",
       "      <td>0.215139</td>\n",
       "      <td>0.000000</td>\n",
       "      <td>0.0</td>\n",
       "      <td>0.173913</td>\n",
       "      <td>1.0</td>\n",
       "      <td>0.0</td>\n",
       "      <td>0.0</td>\n",
       "      <td>0.0</td>\n",
       "      <td>1.0</td>\n",
       "      <td>0.0</td>\n",
       "      <td>...</td>\n",
       "      <td>0.0</td>\n",
       "      <td>0.0</td>\n",
       "      <td>1.0</td>\n",
       "      <td>0.0</td>\n",
       "      <td>0.0</td>\n",
       "      <td>0.0</td>\n",
       "      <td>1.0</td>\n",
       "      <td>1.0</td>\n",
       "      <td>0.0</td>\n",
       "      <td>0.0</td>\n",
       "    </tr>\n",
       "    <tr>\n",
       "      <th>319792</th>\n",
       "      <td>0.147531</td>\n",
       "      <td>0.000000</td>\n",
       "      <td>0.0</td>\n",
       "      <td>0.217391</td>\n",
       "      <td>0.0</td>\n",
       "      <td>0.0</td>\n",
       "      <td>0.0</td>\n",
       "      <td>0.0</td>\n",
       "      <td>0.0</td>\n",
       "      <td>0.0</td>\n",
       "      <td>...</td>\n",
       "      <td>0.0</td>\n",
       "      <td>0.0</td>\n",
       "      <td>1.0</td>\n",
       "      <td>0.0</td>\n",
       "      <td>1.0</td>\n",
       "      <td>0.0</td>\n",
       "      <td>0.0</td>\n",
       "      <td>0.0</td>\n",
       "      <td>0.0</td>\n",
       "      <td>0.0</td>\n",
       "    </tr>\n",
       "    <tr>\n",
       "      <th>319793</th>\n",
       "      <td>0.250996</td>\n",
       "      <td>0.000000</td>\n",
       "      <td>0.0</td>\n",
       "      <td>0.478261</td>\n",
       "      <td>0.0</td>\n",
       "      <td>0.0</td>\n",
       "      <td>0.0</td>\n",
       "      <td>0.0</td>\n",
       "      <td>0.0</td>\n",
       "      <td>1.0</td>\n",
       "      <td>...</td>\n",
       "      <td>0.0</td>\n",
       "      <td>0.0</td>\n",
       "      <td>0.0</td>\n",
       "      <td>0.0</td>\n",
       "      <td>1.0</td>\n",
       "      <td>0.0</td>\n",
       "      <td>0.0</td>\n",
       "      <td>0.0</td>\n",
       "      <td>0.0</td>\n",
       "      <td>0.0</td>\n",
       "    </tr>\n",
       "    <tr>\n",
       "      <th>319794</th>\n",
       "      <td>0.416999</td>\n",
       "      <td>0.000000</td>\n",
       "      <td>0.0</td>\n",
       "      <td>0.304348</td>\n",
       "      <td>0.0</td>\n",
       "      <td>0.0</td>\n",
       "      <td>0.0</td>\n",
       "      <td>0.0</td>\n",
       "      <td>0.0</td>\n",
       "      <td>0.0</td>\n",
       "      <td>...</td>\n",
       "      <td>0.0</td>\n",
       "      <td>0.0</td>\n",
       "      <td>1.0</td>\n",
       "      <td>0.0</td>\n",
       "      <td>1.0</td>\n",
       "      <td>0.0</td>\n",
       "      <td>0.0</td>\n",
       "      <td>0.0</td>\n",
       "      <td>0.0</td>\n",
       "      <td>0.0</td>\n",
       "    </tr>\n",
       "  </tbody>\n",
       "</table>\n",
       "<p>319795 rows × 37 columns</p>\n",
       "</div>"
      ],
      "text/plain": [
       "             BMI  PhysicalHealth  MentalHealth  SleepTime  Smoking_Yes  \\\n",
       "0       0.055294        0.100000           1.0   0.173913          1.0   \n",
       "1       0.100447        0.000000           0.0   0.260870          0.0   \n",
       "2       0.175782        0.666667           1.0   0.304348          1.0   \n",
       "3       0.147169        0.000000           0.0   0.217391          0.0   \n",
       "4       0.141132        0.933333           0.0   0.304348          0.0   \n",
       "...          ...             ...           ...        ...          ...   \n",
       "319790  0.185802        0.233333           0.0   0.217391          1.0   \n",
       "319791  0.215139        0.000000           0.0   0.173913          1.0   \n",
       "319792  0.147531        0.000000           0.0   0.217391          0.0   \n",
       "319793  0.250996        0.000000           0.0   0.478261          0.0   \n",
       "319794  0.416999        0.000000           0.0   0.304348          0.0   \n",
       "\n",
       "        AlcoholDrinking_Yes  Stroke_Yes  DiffWalking_Yes  Sex_Male  \\\n",
       "0                       0.0         0.0              0.0       0.0   \n",
       "1                       0.0         1.0              0.0       0.0   \n",
       "2                       0.0         0.0              0.0       1.0   \n",
       "3                       0.0         0.0              0.0       0.0   \n",
       "4                       0.0         0.0              1.0       0.0   \n",
       "...                     ...         ...              ...       ...   \n",
       "319790                  0.0         0.0              1.0       1.0   \n",
       "319791                  0.0         0.0              0.0       1.0   \n",
       "319792                  0.0         0.0              0.0       0.0   \n",
       "319793                  0.0         0.0              0.0       0.0   \n",
       "319794                  0.0         0.0              0.0       0.0   \n",
       "\n",
       "        AgeCategory_25-29  ...  Diabetic_Yes  Diabetic_Yes (during pregnancy)  \\\n",
       "0                     0.0  ...           1.0                              0.0   \n",
       "1                     0.0  ...           0.0                              0.0   \n",
       "2                     0.0  ...           1.0                              0.0   \n",
       "3                     0.0  ...           0.0                              0.0   \n",
       "4                     0.0  ...           0.0                              0.0   \n",
       "...                   ...  ...           ...                              ...   \n",
       "319790                0.0  ...           1.0                              0.0   \n",
       "319791                0.0  ...           0.0                              0.0   \n",
       "319792                0.0  ...           0.0                              0.0   \n",
       "319793                1.0  ...           0.0                              0.0   \n",
       "319794                0.0  ...           0.0                              0.0   \n",
       "\n",
       "        PhysicalActivity_Yes  GenHealth_Fair  GenHealth_Good  GenHealth_Poor  \\\n",
       "0                        1.0             0.0             0.0             0.0   \n",
       "1                        1.0             0.0             0.0             0.0   \n",
       "2                        1.0             1.0             0.0             0.0   \n",
       "3                        0.0             0.0             1.0             0.0   \n",
       "4                        1.0             0.0             0.0             0.0   \n",
       "...                      ...             ...             ...             ...   \n",
       "319790                   0.0             1.0             0.0             0.0   \n",
       "319791                   1.0             0.0             0.0             0.0   \n",
       "319792                   1.0             0.0             1.0             0.0   \n",
       "319793                   0.0             0.0             1.0             0.0   \n",
       "319794                   1.0             0.0             1.0             0.0   \n",
       "\n",
       "        GenHealth_Very good  Asthma_Yes  KidneyDisease_Yes  SkinCancer_Yes  \n",
       "0                       1.0         1.0                0.0             1.0  \n",
       "1                       1.0         0.0                0.0             0.0  \n",
       "2                       0.0         1.0                0.0             0.0  \n",
       "3                       0.0         0.0                0.0             1.0  \n",
       "4                       1.0         0.0                0.0             0.0  \n",
       "...                     ...         ...                ...             ...  \n",
       "319790                  0.0         1.0                0.0             0.0  \n",
       "319791                  1.0         1.0                0.0             0.0  \n",
       "319792                  0.0         0.0                0.0             0.0  \n",
       "319793                  0.0         0.0                0.0             0.0  \n",
       "319794                  0.0         0.0                0.0             0.0  \n",
       "\n",
       "[319795 rows x 37 columns]"
      ]
     },
     "execution_count": 25,
     "metadata": {},
     "output_type": "execute_result"
    }
   ],
   "source": [
    "X_full = full_df.drop(columns = ['HeartDisease'])\n",
    "y_full = full_df[['HeartDisease']]\n",
    "x_onehot_full = pd.get_dummies(X_full, drop_first = True)\n",
    "scaler = MinMaxScaler()\n",
    "scaler.fit(x_onehot_full)\n",
    "x_scaled_full = scaler.transform(x_onehot_full)\n",
    "x_scaled_full = pd.DataFrame(x_scaled_full, columns = x_onehot_full.columns)\n",
    "x_scaled_full"
   ]
  },
  {
   "cell_type": "code",
   "execution_count": 12,
   "id": "f2167bb6",
   "metadata": {},
   "outputs": [
    {
     "data": {
      "text/plain": [
       "8.559545959130068"
      ]
     },
     "execution_count": 12,
     "metadata": {},
     "output_type": "execute_result"
    },
    {
     "name": "stdout",
     "output_type": "stream",
     "text": [
      "time: 0 ns (started: 2022-05-07 18:24:03 +05:00)\n"
     ]
    }
   ],
   "source": [
    "percentage_no = ((len(y_full)-y_full.value_counts()[0])/len(y_full))*100\n",
    "percentage_no"
   ]
  },
  {
   "cell_type": "markdown",
   "id": "312b11a6",
   "metadata": {},
   "source": [
    "## BEST KNN WITHOUT SMOTE"
   ]
  },
  {
   "cell_type": "code",
   "execution_count": 40,
   "id": "604699db",
   "metadata": {},
   "outputs": [
    {
     "name": "stderr",
     "output_type": "stream",
     "text": [
      "[Parallel(n_jobs=1)]: Using backend SequentialBackend with 1 concurrent workers.\n"
     ]
    },
    {
     "name": "stdout",
     "output_type": "stream",
     "text": [
      "[CV] END ................................ score: (test=0.834) total time= 3.0min\n"
     ]
    },
    {
     "name": "stderr",
     "output_type": "stream",
     "text": [
      "[Parallel(n_jobs=1)]: Done   1 out of   1 | elapsed:  3.0min remaining:    0.0s\n"
     ]
    },
    {
     "name": "stdout",
     "output_type": "stream",
     "text": [
      "[CV] END ................................ score: (test=0.837) total time= 3.1min\n"
     ]
    },
    {
     "name": "stderr",
     "output_type": "stream",
     "text": [
      "[Parallel(n_jobs=1)]: Done   2 out of   2 | elapsed:  6.1min remaining:    0.0s\n"
     ]
    },
    {
     "name": "stdout",
     "output_type": "stream",
     "text": [
      "[CV] END ................................ score: (test=0.833) total time= 3.0min\n",
      "[CV] END ................................ score: (test=0.829) total time= 3.0min\n",
      "[CV] END ................................ score: (test=0.834) total time= 3.0min\n",
      "[CV] END ................................ score: (test=0.833) total time= 3.0min\n",
      "[CV] END ................................ score: (test=0.828) total time= 3.0min\n",
      "[CV] END ................................ score: (test=0.832) total time= 3.0min\n",
      "[CV] END ................................ score: (test=0.830) total time= 3.1min\n",
      "[CV] END ................................ score: (test=0.835) total time= 3.1min\n",
      "0.8325\n"
     ]
    },
    {
     "name": "stderr",
     "output_type": "stream",
     "text": [
      "[Parallel(n_jobs=1)]: Done  10 out of  10 | elapsed: 30.2min finished\n"
     ]
    }
   ],
   "source": [
    "cv = StratifiedKFold(n_splits=10, random_state = 0, shuffle = True)\n",
    "knn = KNeighborsClassifier(n_neighbors = 410)\n",
    "scores = cross_val_score(knn, x_scaled_full , np.ravel(y_full), scoring=\"roc_auc\", cv=cv, verbose = 3)\n",
    "  \n",
    "score = format(np.mean(scores), '.4f')\n",
    "print(score)"
   ]
  },
  {
   "cell_type": "code",
   "execution_count": 42,
   "id": "c7680ed5",
   "metadata": {},
   "outputs": [
    {
     "data": {
      "image/png": "[encoded data removed]",
      "text/plain": [
       "<Figure size 1152x576 with 2 Axes>"
      ]
     },
     "metadata": {},
     "output_type": "display_data"
    }
   ],
   "source": [
    "x_train, x_test, y_train, y_test = train_test_split(x_scaled_full, y_full, test_size = 0.3)\n",
    "knn = KNeighborsClassifier(n_neighbors = 410)\n",
    "knn.fit(x_train, y_train)\n",
    "pred = knn.predict(x_test)\n",
    "confusion = confusion_matrix(y_test, pred, labels = knn.classes_)\n",
    "display = ConfusionMatrixDisplay(confusion_matrix=confusion, display_labels=knn.classes_)\n",
    "display.plot()\n",
    "plt.grid(False)\n",
    "plt.show()"
   ]
  },
  {
   "cell_type": "code",
   "execution_count": 43,
   "id": "1954bbca",
   "metadata": {},
   "outputs": [
    {
     "name": "stdout",
     "output_type": "stream",
     "text": [
      "recall:  1.006876227897839\n",
      "precision:  73.21428571428571\n"
     ]
    }
   ],
   "source": [
    "print(\"recall: \", (confusion[1][1]/(confusion[1][0] +confusion[1][1]))*100)\n",
    "print(\"precision: \", (confusion[1][1]/(confusion[0][1] +confusion[1][1]))*100)\n"
   ]
  },
  {
   "cell_type": "markdown",
   "id": "d714ab92",
   "metadata": {},
   "source": [
    "## BEST KNN With SMOTE"
   ]
  },
  {
   "cell_type": "code",
   "execution_count": 26,
   "id": "aae93e64",
   "metadata": {},
   "outputs": [
    {
     "name": "stdout",
     "output_type": "stream",
     "text": [
      "Fitting 10 folds for each of 1 candidates, totalling 10 fits\n",
      "Train ROC AUC: 0.849\n",
      "Test AUC-ROC %.3f %  0.8300490085015931\n"
     ]
    },
    {
     "data": {
      "image/png": "[encoded data removed]",
      "text/plain": [
       "<Figure size 432x288 with 2 Axes>"
      ]
     },
     "metadata": {
      "needs_background": "light"
     },
     "output_type": "display_data"
    },
    {
     "name": "stdout",
     "output_type": "stream",
     "text": [
      "recall:  55.23135148333537\n",
      "precision:  29.089506172839506\n",
      "time: 4min 47s (started: 2022-05-07 18:59:22 +05:00)\n"
     ]
    }
   ],
   "source": [
    "model = knn = KNeighborsClassifier()\n",
    "parameters = {\n",
    "    \"model__n_neighbors\": [100]\n",
    "    }\n",
    "over = SMOTE(sampling_strategy=0.1)\n",
    "under = RandomUnderSampler(sampling_strategy=0.5)\n",
    "steps = [('over', over), ('under', under), ('model', model)]\n",
    "pipeline = Pipeline(steps=steps)\n",
    "\n",
    "\n",
    "\n",
    "\n",
    "\n",
    "cv = RepeatedStratifiedKFold(n_splits=10, n_repeats=1, random_state=1)\n",
    "\n",
    "clf = GridSearchCV(pipeline, parameters, cv=cv, n_jobs=-10, verbose =3)\n",
    "clf.fit(x_train_full, y_train_full)\n",
    "print('Train ROC AUC: %.3f' % (clf.best_score_))\n",
    "\n",
    "md_probs = clf.predict_proba(x_test_full)\n",
    "md_probs = md_probs[:,1]\n",
    "md_auc = roc_auc_score(y_test_full, md_probs)\n",
    "print('Test AUC-ROC %.3f % ', md_auc)\n",
    "\n",
    "pred = clf.predict(x_test_full)\n",
    "confusion = confusion_matrix(y_test_full, pred)\n",
    "\n",
    "display = ConfusionMatrixDisplay(confusion_matrix = confusion)\n",
    "display.plot()\n",
    "plt.grid(False)\n",
    "plt.show()\n",
    "print(\"recall: \", (confusion[1][1]/(confusion[1][0] +confusion[1][1]))*100)\n",
    "print(\"precision: \", (confusion[1][1]/(confusion[0][1] +confusion[1][1]))*100)\n"
   ]
  },
  {
   "cell_type": "markdown",
   "id": "af01d2e0",
   "metadata": {},
   "source": [
    "## BEST GB MODEL WITHOUT SMOTE:"
   ]
  },
  {
   "cell_type": "code",
   "execution_count": 66,
   "id": "2297a6f1",
   "metadata": {},
   "outputs": [
    {
     "name": "stderr",
     "output_type": "stream",
     "text": [
      "[Parallel(n_jobs=5)]: Using backend LokyBackend with 5 concurrent workers.\n",
      "[Parallel(n_jobs=5)]: Done   5 out of  10 | elapsed: 11.1min remaining: 11.1min\n",
      "[Parallel(n_jobs=5)]: Done  10 out of  10 | elapsed: 22.4min finished\n"
     ]
    },
    {
     "name": "stdout",
     "output_type": "stream",
     "text": [
      "0.8422\n",
      "time: 22min 26s (started: 2022-05-06 02:46:44 +05:00)\n"
     ]
    }
   ],
   "source": [
    "cv = StratifiedKFold(n_splits=10, random_state = 0, shuffle = True)\n",
    "gb = GradientBoostingClassifier(n_estimators = 1000, learning_rate = 0.05)\n",
    "scores = cross_val_score(gb, x_scaled_full , np.ravel(y_full), scoring=\"roc_auc\", cv=cv, verbose = 3, n_jobs = 5)\n",
    "  \n",
    "score = format(np.mean(scores), '.4f')\n",
    "print(score)"
   ]
  },
  {
   "cell_type": "code",
   "execution_count": 99,
   "id": "4b1d5afd",
   "metadata": {
    "scrolled": true
   },
   "outputs": [
    {
     "data": {
      "image/png": "[encoded data removed]",
      "text/plain": [
       "<Figure size 432x288 with 2 Axes>"
      ]
     },
     "metadata": {
      "needs_background": "light"
     },
     "output_type": "display_data"
    },
    {
     "name": "stdout",
     "output_type": "stream",
     "text": [
      "time: 3min 19s (started: 2022-05-06 12:38:29 +05:00)\n"
     ]
    }
   ],
   "source": [
    "#CONFUSION MATRIX OF GB ON FULL DATASET WITH BEST PARAMETERS\n",
    "\n",
    "x_train, x_test, y_train, y_test = train_test_split(x_scaled_full, y_full, test_size = 0.3)\n",
    "gb = GradientBoostingClassifier(n_estimators = 1000, learning_rate = 0.05)\n",
    "gb.fit(x_train, y_train)\n",
    "pred = gb.predict(x_test)\n",
    "confusion = confusion_matrix(y_test, pred, labels = gb.classes_)\n",
    "display = ConfusionMatrixDisplay(confusion_matrix=confusion, display_labels=gb.classes_)\n",
    "display.plot()\n",
    "plt.grid(False)\n",
    "plt.show()"
   ]
  },
  {
   "cell_type": "markdown",
   "id": "36162f83",
   "metadata": {},
   "source": [
    "##### ON FULL DATASET WITH LR = 0.05, N_EST = 1000\n",
    "\n",
    "recall = 9%               \n",
    "precision = 54%\n",
    "AUC = 0.8415"
   ]
  },
  {
   "cell_type": "markdown",
   "id": "ad105e89",
   "metadata": {},
   "source": [
    "## BEST GB MODEL WITH SMOTE"
   ]
  },
  {
   "cell_type": "code",
   "execution_count": 63,
   "id": "1674479a",
   "metadata": {},
   "outputs": [
    {
     "name": "stdout",
     "output_type": "stream",
     "text": [
      "Fitting 10 folds for each of 1 candidates, totalling 10 fits\n",
      "Best parameters:  {'model__learning_rate': 0.05, 'model__max_depth': 5, 'model__n_estimators': 250}\n",
      "Test AUC-ROC %.3f %  0.8423525639038913\n"
     ]
    },
    {
     "data": {
      "image/png": "[encoded data removed]",
      "text/plain": [
       "<Figure size 432x288 with 2 Axes>"
      ]
     },
     "metadata": {
      "needs_background": "light"
     },
     "output_type": "display_data"
    },
    {
     "name": "stdout",
     "output_type": "stream",
     "text": [
      "recall:  59.5775851544378\n",
      "precision:  29.275901373807667\n",
      "time: 2min 3s (started: 2022-05-07 23:43:56 +05:00)\n"
     ]
    }
   ],
   "source": [
    "model = gb = GradientBoostingClassifier(  )\n",
    "parameters = {\n",
    "    \"model__learning_rate\": [0.05],\n",
    "    \"model__n_estimators\":[250],\n",
    "    \"model__max_depth\": [5]\n",
    "    }\n",
    "over = SMOTE(sampling_strategy=0.1)\n",
    "under = RandomUnderSampler(sampling_strategy=0.5)\n",
    "steps = [('over', over), ('under', under), ('model', model)]\n",
    "pipeline = Pipeline(steps=steps)\n",
    "\n",
    "\n",
    "\n",
    "\n",
    "\n",
    "cv = RepeatedStratifiedKFold(n_splits=10, n_repeats=1, random_state=1)\n",
    "\n",
    "clf = GridSearchCV(pipeline, parameters, cv=cv, n_jobs=-10, verbose =3)\n",
    "clf.fit(x_train_full, y_train_full)\n",
    "\n",
    "print('Best parameters: ', clf.best_params_)\n",
    "\n",
    "md_probs = clf.predict_proba(x_test_full)\n",
    "md_probs = md_probs[:,1]\n",
    "md_auc = roc_auc_score(y_test_full, md_probs)\n",
    "print('Test AUC-ROC %.3f % ', md_auc)\n",
    "\n",
    "pred = clf.predict(x_test_full)\n",
    "confusion = confusion_matrix(y_test_full, pred)\n",
    "\n",
    "display = ConfusionMatrixDisplay(confusion_matrix = confusion)\n",
    "display.plot()\n",
    "plt.grid(False)\n",
    "plt.show()\n",
    "print(\"recall: \", (confusion[1][1]/(confusion[1][0] +confusion[1][1]))*100)\n",
    "print(\"precision: \", (confusion[1][1]/(confusion[0][1] +confusion[1][1]))*100)\n"
   ]
  },
  {
   "cell_type": "markdown",
   "id": "a27e2fa8",
   "metadata": {},
   "source": [
    "## BEST RF MODEL WITHOUT SMOTE:"
   ]
  },
  {
   "cell_type": "code",
   "execution_count": 23,
   "id": "541196d0",
   "metadata": {},
   "outputs": [
    {
     "name": "stdout",
     "output_type": "stream",
     "text": [
      "Fitting 10 folds for each of 1 candidates, totalling 10 fits\n",
      "[CV 1/10] END max_depth=20, max_features=5, min_samples_leaf=15, min_samples_split=15, n_estimators=1000;, score=0.840 total time= 2.1min\n",
      "[CV 2/10] END max_depth=20, max_features=5, min_samples_leaf=15, min_samples_split=15, n_estimators=1000;, score=0.844 total time= 2.2min\n",
      "[CV 3/10] END max_depth=20, max_features=5, min_samples_leaf=15, min_samples_split=15, n_estimators=1000;, score=0.842 total time= 2.1min\n",
      "[CV 4/10] END max_depth=20, max_features=5, min_samples_leaf=15, min_samples_split=15, n_estimators=1000;, score=0.837 total time= 2.1min\n",
      "[CV 5/10] END max_depth=20, max_features=5, min_samples_leaf=15, min_samples_split=15, n_estimators=1000;, score=0.842 total time= 2.0min\n",
      "[CV 6/10] END max_depth=20, max_features=5, min_samples_leaf=15, min_samples_split=15, n_estimators=1000;, score=0.842 total time= 2.1min\n",
      "[CV 7/10] END max_depth=20, max_features=5, min_samples_leaf=15, min_samples_split=15, n_estimators=1000;, score=0.836 total time= 2.0min\n",
      "[CV 8/10] END max_depth=20, max_features=5, min_samples_leaf=15, min_samples_split=15, n_estimators=1000;, score=0.837 total time= 2.1min\n",
      "[CV 9/10] END max_depth=20, max_features=5, min_samples_leaf=15, min_samples_split=15, n_estimators=1000;, score=0.835 total time= 2.1min\n",
      "[CV 10/10] END max_depth=20, max_features=5, min_samples_leaf=15, min_samples_split=15, n_estimators=1000;, score=0.842 total time= 2.1min\n",
      "0.839735639966586\n",
      "RandomForestClassifier(max_depth=20, max_features=5, min_samples_leaf=15,\n",
      "                       min_samples_split=15, n_estimators=1000, n_jobs=-1)\n"
     ]
    }
   ],
   "source": [
    "cv = StratifiedKFold(n_splits=10, random_state = 0, shuffle = True)\n",
    "rf = RandomForestClassifier(n_jobs = -1)\n",
    "param_grid= {\n",
    "    \"min_samples_split\": [15],\n",
    "    \"min_samples_leaf\": [15],\n",
    "    \"max_depth\":[20],\n",
    "    \"max_features\":[5],\n",
    "    \"n_estimators\":[1000]\n",
    "    }\n",
    "grid_search = GridSearchCV(estimator = rf, param_grid=param_grid, cv = cv, n_jobs = -10, verbose = 3, scoring = 'roc_auc')\n",
    "grid_search.fit(x_scaled_full , np.ravel(y_full))\n",
    "print(grid_search.best_score_)\n",
    "best_grid = grid_search.best_estimator_\n",
    "print(best_grid)  "
   ]
  },
  {
   "cell_type": "code",
   "execution_count": null,
   "id": "bafe1c2f",
   "metadata": {},
   "outputs": [],
   "source": [
    "trainX, testX, trainy, testy = train_test_split(x_scaled_full , y_full, test_size=0.3, random_state=2)\n",
    "rf = RandomForestClassifier(max_depth=20, max_features=5, min_samples_leaf=15,\n",
    "                       min_samples_split=15, n_estimators=1000, n_jobs=-1, verbose = 1)\n",
    "rf.fit(trainX, trainy)\n",
    "pred = rf.predict(testX)\n",
    "RF_conf_matrix = confusion_matrix(testy, pred)\n",
    "\n",
    "display = ConfusionMatrixDisplay(confusion_matrix = RF_conf_matrix, display_labels = rf.classes_)\n",
    "display.plot()\n",
    "plt.grid(False)\n",
    "plt.show()"
   ]
  },
  {
   "attachments": {
    "image.png": {
     "image/png": "[encoded data removed]"
    }
   },
   "cell_type": "markdown",
   "id": "9473381b",
   "metadata": {},
   "source": [
    "![image.png](attachment:image.png)"
   ]
  },
  {
   "cell_type": "markdown",
   "id": "af2f5f97",
   "metadata": {},
   "source": [
    "    ROC-AUC = 0.8397\n",
    "    Recall = 3.3%\n",
    "    Precision = 61%"
   ]
  },
  {
   "cell_type": "markdown",
   "id": "508e0826",
   "metadata": {},
   "source": [
    "## BEST RF MODEL WITH SMOTE"
   ]
  },
  {
   "cell_type": "code",
   "execution_count": 66,
   "id": "dde36666",
   "metadata": {},
   "outputs": [
    {
     "name": "stdout",
     "output_type": "stream",
     "text": [
      "Fitting 10 folds for each of 1 candidates, totalling 10 fits\n",
      "[CV 1/10] END model__max_depth=20, model__max_features=5, model__min_samples_leaf=15, model__min_samples_split=15, model__n_estimators=1000;, score=0.815 total time= 6.2min\n",
      "[CV 2/10] END model__max_depth=20, model__max_features=5, model__min_samples_leaf=15, model__min_samples_split=15, model__n_estimators=1000;, score=0.819 total time= 6.2min\n",
      "[CV 3/10] END model__max_depth=20, model__max_features=5, model__min_samples_leaf=15, model__min_samples_split=15, model__n_estimators=1000;, score=0.821 total time= 6.2min\n",
      "[CV 4/10] END model__max_depth=20, model__max_features=5, model__min_samples_leaf=15, model__min_samples_split=15, model__n_estimators=1000;, score=0.815 total time= 6.4min\n",
      "[CV 5/10] END model__max_depth=20, model__max_features=5, model__min_samples_leaf=15, model__min_samples_split=15, model__n_estimators=1000;, score=0.825 total time= 6.6min\n",
      "[CV 6/10] END model__max_depth=20, model__max_features=5, model__min_samples_leaf=15, model__min_samples_split=15, model__n_estimators=1000;, score=0.818 total time= 6.6min\n",
      "[CV 7/10] END model__max_depth=20, model__max_features=5, model__min_samples_leaf=15, model__min_samples_split=15, model__n_estimators=1000;, score=0.820 total time= 6.3min\n",
      "[CV 8/10] END model__max_depth=20, model__max_features=5, model__min_samples_leaf=15, model__min_samples_split=15, model__n_estimators=1000;, score=0.816 total time= 6.2min\n",
      "[CV 9/10] END model__max_depth=20, model__max_features=5, model__min_samples_leaf=15, model__min_samples_split=15, model__n_estimators=1000;, score=0.826 total time= 6.3min\n",
      "[CV 10/10] END model__max_depth=20, model__max_features=5, model__min_samples_leaf=15, model__min_samples_split=15, model__n_estimators=1000;, score=0.820 total time= 6.3min\n",
      "0.8193481700577043\n"
     ]
    }
   ],
   "source": [
    "model = RandomForestClassifier()\n",
    "parameters = {\n",
    "    \"model__max_depth\":[20],\n",
    "    \"model__max_features\":[5],\n",
    "    \"model__min_samples_leaf\": [15],\n",
    "    \"model__min_samples_split\": [15],\n",
    "    \"model__n_estimators\":[1000]\n",
    "    }\n",
    "over = SMOTE(random_state=2)\n",
    "#under = RandomUnderSampler(sampling_strategy=0.5)\n",
    "steps = [('over', over), ('model', model)]\n",
    "pipeline = Pipeline(steps=steps)\n",
    "cv = RepeatedStratifiedKFold(n_splits=10, n_repeats=1, random_state=1)\n",
    "#scores = cross_val_score(pipeline, x_train_full, y_train_full, scoring='roc_auc', cv=cv, n_jobs=-10)\n",
    "\n",
    "clf = GridSearchCV(pipeline, parameters, cv=cv, n_jobs=-10, verbose =3)\n",
    "clf.fit(x_train_full, y_train_full)\n",
    "print((clf.best_score_))"
   ]
  },
  {
   "cell_type": "code",
   "execution_count": 67,
   "id": "af556136",
   "metadata": {},
   "outputs": [
    {
     "data": {
      "text/plain": [
       "0.8328917631892756"
      ]
     },
     "execution_count": 67,
     "metadata": {},
     "output_type": "execute_result"
    }
   ],
   "source": [
    "md_probs = clf.predict_proba(x_test_full)\n",
    "md_probs = md_probs[:,1]\n",
    "md_auc = roc_auc_score(y_test_full, md_probs)\n",
    "md_auc"
   ]
  },
  {
   "cell_type": "code",
   "execution_count": 68,
   "id": "b770cc78",
   "metadata": {
    "scrolled": true
   },
   "outputs": [
    {
     "data": {
      "image/png": "[encoded data removed]",
      "text/plain": [
       "<Figure size 432x288 with 2 Axes>"
      ]
     },
     "metadata": {
      "needs_background": "light"
     },
     "output_type": "display_data"
    },
    {
     "name": "stdout",
     "output_type": "stream",
     "text": [
      "recall:  0.6309363936027347\n",
      "specificity:  0.836953548798833\n",
      "Precision:  0.2653658536585366\n"
     ]
    }
   ],
   "source": [
    "pred = clf.predict(x_test_full)\n",
    "cm = confusion_matrix(y_test_full, pred)\n",
    "\n",
    "display = ConfusionMatrixDisplay(confusion_matrix = cm)\n",
    "display.plot()\n",
    "plt.grid(False)\n",
    "plt.show()\n",
    "\n",
    "TN = cm[0,0] \n",
    "FP = cm[0,1]\n",
    "FN = cm[1,0]\n",
    "TP = cm[1,1]\n",
    "\n",
    "recall = TP / (TP + FN)\n",
    "specificity = TN / (TN + FP)\n",
    "acc = (TP + TN) / (TP + FP + TN + FN)\n",
    "Precision = TP / (TP + FP)\n",
    "\n",
    "print(\"recall: \",recall)\n",
    "print(\"specificity: \",specificity)\n",
    "print(\"Precision: \",Precision)"
   ]
  },
  {
   "cell_type": "markdown",
   "id": "03047e3f",
   "metadata": {},
   "source": [
    "## BEST DT MODEL WITH SMOTE"
   ]
  },
  {
   "cell_type": "code",
   "execution_count": 28,
   "id": "0aa9fbf0",
   "metadata": {
    "scrolled": false
   },
   "outputs": [
    {
     "name": "stdout",
     "output_type": "stream",
     "text": [
      "Fitting 10 folds for each of 1 candidates, totalling 10 fits\n",
      "Train ROC AUC: 0.773\n",
      "Test AUC-ROC %.3f %  0.6904057204422648\n"
     ]
    },
    {
     "data": {
      "image/png": "[encoded data removed]",
      "text/plain": [
       "<Figure size 432x288 with 2 Axes>"
      ]
     },
     "metadata": {
      "needs_background": "light"
     },
     "output_type": "display_data"
    },
    {
     "name": "stdout",
     "output_type": "stream",
     "text": [
      "recall:  52.179221096325236\n",
      "precision:  19.467978500501047\n",
      "time: 26.8 s (started: 2022-05-07 19:08:46 +05:00)\n"
     ]
    }
   ],
   "source": [
    "model =dt = DecisionTreeClassifier()\n",
    "parameters = {\n",
    "    \"model__min_samples_split\": [6]\n",
    "    }\n",
    "over = SMOTE(sampling_strategy=0.1)\n",
    "under = RandomUnderSampler(sampling_strategy=0.5)\n",
    "steps = [('over', over), ('under', under), ('model', model)]\n",
    "pipeline = Pipeline(steps=steps)\n",
    "\n",
    "\n",
    "\n",
    "\n",
    "\n",
    "cv = RepeatedStratifiedKFold(n_splits=10, n_repeats=1, random_state=1)\n",
    "\n",
    "clf = GridSearchCV(pipeline, parameters, cv=cv, n_jobs=-10, verbose =3)\n",
    "clf.fit(x_train_full, y_train_full)\n",
    "print('Train ROC AUC: %.3f' % (clf.best_score_))\n",
    "\n",
    "md_probs = clf.predict_proba(x_test_full)\n",
    "md_probs = md_probs[:,1]\n",
    "md_auc = roc_auc_score(y_test_full, md_probs)\n",
    "print('Test AUC-ROC %.3f % ', md_auc)\n",
    "\n",
    "pred = clf.predict(x_test_full)\n",
    "confusion = confusion_matrix(y_test_full, pred)\n",
    "\n",
    "display = ConfusionMatrixDisplay(confusion_matrix = confusion)\n",
    "display.plot()\n",
    "plt.grid(False)\n",
    "plt.show()\n",
    "print(\"recall: \", (confusion[1][1]/(confusion[1][0] +confusion[1][1]))*100)\n",
    "print(\"precision: \", (confusion[1][1]/(confusion[0][1] +confusion[1][1]))*100)"
   ]
  },
  {
   "cell_type": "markdown",
   "id": "b9c55787",
   "metadata": {},
   "source": [
    "## BEST XGB MODEL WITH SMOTE"
   ]
  },
  {
   "cell_type": "code",
   "execution_count": 42,
   "id": "9e232a67",
   "metadata": {},
   "outputs": [
    {
     "name": "stdout",
     "output_type": "stream",
     "text": [
      "Fitting 10 folds for each of 1 candidates, totalling 10 fits\n",
      "Train ROC AUC: 0.843\n",
      "Test AUC-ROC %.3f %  0.8420438308351593\n"
     ]
    },
    {
     "data": {
      "image/png": "[encoded data removed]",
      "text/plain": [
       "<Figure size 432x288 with 2 Axes>"
      ]
     },
     "metadata": {
      "needs_background": "light"
     },
     "output_type": "display_data"
    },
    {
     "name": "stdout",
     "output_type": "stream",
     "text": [
      "recall:  59.38224880966915\n",
      "precision:  29.62421584749376\n",
      "time: 51.5 s (started: 2022-05-07 19:37:59 +05:00)\n"
     ]
    }
   ],
   "source": [
    "model = XGB = XGBClassifier( random_state=2, verbosity=1, n_jobs = -1)\n",
    "parameters = {\n",
    "    \"model__max_depth\": [None],\n",
    "    'model__learning_rate': [0.1],\n",
    "    'model__n_estimators': [100]\n",
    "    }\n",
    "over = SMOTE(sampling_strategy=0.1)\n",
    "under = RandomUnderSampler(sampling_strategy=0.5)\n",
    "steps = [('over', over), ('under', under), ('model', model)]\n",
    "pipeline = Pipeline(steps=steps)\n",
    "\n",
    "\n",
    "\n",
    "\n",
    "\n",
    "cv = RepeatedStratifiedKFold(n_splits=10, n_repeats=1, random_state=1)\n",
    "\n",
    "clf = GridSearchCV(pipeline, parameters, cv=cv, n_jobs=-10, verbose =3)\n",
    "clf.fit(x_train_full, y_train_full)\n",
    "print('Train ROC AUC: %.3f' % (clf.best_score_))\n",
    "\n",
    "md_probs = clf.predict_proba(x_test_full)\n",
    "md_probs = md_probs[:,1]\n",
    "md_auc = roc_auc_score(y_test_full, md_probs)\n",
    "print('Test AUC-ROC %.3f % ', md_auc)\n",
    "\n",
    "pred = clf.predict(x_test_full)\n",
    "confusion = confusion_matrix(y_test_full, pred)\n",
    "\n",
    "display = ConfusionMatrixDisplay(confusion_matrix = confusion)\n",
    "display.plot()\n",
    "plt.grid(False)\n",
    "plt.show()\n",
    "print(\"recall: \", (confusion[1][1]/(confusion[1][0] +confusion[1][1]))*100)\n",
    "print(\"precision: \", (confusion[1][1]/(confusion[0][1] +confusion[1][1]))*100)"
   ]
  },
  {
   "cell_type": "markdown",
   "id": "d29659ef",
   "metadata": {},
   "source": [
    "## BEST STACKING MODEL WITH SMOTE"
   ]
  },
  {
   "cell_type": "code",
   "execution_count": 102,
   "id": "914c0331",
   "metadata": {
    "scrolled": false
   },
   "outputs": [
    {
     "name": "stdout",
     "output_type": "stream",
     "text": [
      "Fitting 10 folds for each of 1 candidates, totalling 10 fits\n"
     ]
    },
    {
     "name": "stderr",
     "output_type": "stream",
     "text": [
      "[Parallel(n_jobs=-10)]: Using backend SequentialBackend with 1 concurrent workers.\n",
      "[Parallel(n_jobs=-10)]: Done   5 out of   5 | elapsed:  2.6min finished\n",
      "[Parallel(n_jobs=-10)]: Using backend SequentialBackend with 1 concurrent workers.\n",
      "[Parallel(n_jobs=-10)]: Done   5 out of   5 | elapsed:  2.1min finished\n",
      "[Parallel(n_jobs=-10)]: Using backend SequentialBackend with 1 concurrent workers.\n",
      "[Parallel(n_jobs=-10)]: Done   5 out of   5 | elapsed:  2.6min finished\n",
      "[Parallel(n_jobs=-10)]: Using backend SequentialBackend with 1 concurrent workers.\n",
      "[Parallel(n_jobs=-10)]: Done   5 out of   5 | elapsed:  2.5min finished\n",
      "[Parallel(n_jobs=-10)]: Using backend SequentialBackend with 1 concurrent workers.\n",
      "[Parallel(n_jobs=-10)]: Done   5 out of   5 | elapsed:    1.8s finished\n"
     ]
    },
    {
     "name": "stdout",
     "output_type": "stream",
     "text": [
      "[CV 1/10] END .................................., score=0.834 total time=12.8min\n"
     ]
    },
    {
     "name": "stderr",
     "output_type": "stream",
     "text": [
      "[Parallel(n_jobs=-10)]: Using backend SequentialBackend with 1 concurrent workers.\n",
      "[Parallel(n_jobs=-10)]: Done   5 out of   5 | elapsed:  2.7min finished\n",
      "[Parallel(n_jobs=-10)]: Using backend SequentialBackend with 1 concurrent workers.\n",
      "[Parallel(n_jobs=-10)]: Done   5 out of   5 | elapsed:  2.2min finished\n",
      "[Parallel(n_jobs=-10)]: Using backend SequentialBackend with 1 concurrent workers.\n",
      "[Parallel(n_jobs=-10)]: Done   5 out of   5 | elapsed:  2.7min finished\n",
      "[Parallel(n_jobs=-10)]: Using backend SequentialBackend with 1 concurrent workers.\n",
      "[Parallel(n_jobs=-10)]: Done   5 out of   5 | elapsed:  2.7min finished\n",
      "[Parallel(n_jobs=-10)]: Using backend SequentialBackend with 1 concurrent workers.\n",
      "[Parallel(n_jobs=-10)]: Done   5 out of   5 | elapsed:    2.0s finished\n"
     ]
    },
    {
     "name": "stdout",
     "output_type": "stream",
     "text": [
      "[CV 2/10] END .................................., score=0.831 total time=12.8min\n"
     ]
    },
    {
     "name": "stderr",
     "output_type": "stream",
     "text": [
      "[Parallel(n_jobs=-10)]: Using backend SequentialBackend with 1 concurrent workers.\n",
      "[Parallel(n_jobs=-10)]: Done   5 out of   5 | elapsed:  2.6min finished\n",
      "[Parallel(n_jobs=-10)]: Using backend SequentialBackend with 1 concurrent workers.\n",
      "[Parallel(n_jobs=-10)]: Done   5 out of   5 | elapsed:  2.1min finished\n",
      "[Parallel(n_jobs=-10)]: Using backend SequentialBackend with 1 concurrent workers.\n",
      "[Parallel(n_jobs=-10)]: Done   5 out of   5 | elapsed:  2.7min finished\n",
      "[Parallel(n_jobs=-10)]: Using backend SequentialBackend with 1 concurrent workers.\n",
      "[Parallel(n_jobs=-10)]: Done   5 out of   5 | elapsed:  2.8min finished\n",
      "[Parallel(n_jobs=-10)]: Using backend SequentialBackend with 1 concurrent workers.\n",
      "[Parallel(n_jobs=-10)]: Done   5 out of   5 | elapsed:    1.9s finished\n"
     ]
    },
    {
     "name": "stdout",
     "output_type": "stream",
     "text": [
      "[CV 3/10] END .................................., score=0.836 total time=12.6min\n"
     ]
    },
    {
     "name": "stderr",
     "output_type": "stream",
     "text": [
      "[Parallel(n_jobs=-10)]: Using backend SequentialBackend with 1 concurrent workers.\n",
      "[Parallel(n_jobs=-10)]: Done   5 out of   5 | elapsed:  2.8min finished\n",
      "[Parallel(n_jobs=-10)]: Using backend SequentialBackend with 1 concurrent workers.\n",
      "[Parallel(n_jobs=-10)]: Done   5 out of   5 | elapsed:  2.2min finished\n",
      "[Parallel(n_jobs=-10)]: Using backend SequentialBackend with 1 concurrent workers.\n",
      "[Parallel(n_jobs=-10)]: Done   5 out of   5 | elapsed:  2.6min finished\n",
      "[Parallel(n_jobs=-10)]: Using backend SequentialBackend with 1 concurrent workers.\n",
      "[Parallel(n_jobs=-10)]: Done   5 out of   5 | elapsed:  2.5min finished\n",
      "[Parallel(n_jobs=-10)]: Using backend SequentialBackend with 1 concurrent workers.\n",
      "[Parallel(n_jobs=-10)]: Done   5 out of   5 | elapsed:    1.8s finished\n"
     ]
    },
    {
     "name": "stdout",
     "output_type": "stream",
     "text": [
      "[CV 4/10] END .................................., score=0.832 total time=12.8min\n"
     ]
    },
    {
     "name": "stderr",
     "output_type": "stream",
     "text": [
      "[Parallel(n_jobs=-10)]: Using backend SequentialBackend with 1 concurrent workers.\n",
      "[Parallel(n_jobs=-10)]: Done   5 out of   5 | elapsed:  2.6min finished\n",
      "[Parallel(n_jobs=-10)]: Using backend SequentialBackend with 1 concurrent workers.\n",
      "[Parallel(n_jobs=-10)]: Done   5 out of   5 | elapsed:  2.1min finished\n",
      "[Parallel(n_jobs=-10)]: Using backend SequentialBackend with 1 concurrent workers.\n",
      "[Parallel(n_jobs=-10)]: Done   5 out of   5 | elapsed:  2.6min finished\n",
      "[Parallel(n_jobs=-10)]: Using backend SequentialBackend with 1 concurrent workers.\n",
      "[Parallel(n_jobs=-10)]: Done   5 out of   5 | elapsed:  2.5min finished\n",
      "[Parallel(n_jobs=-10)]: Using backend SequentialBackend with 1 concurrent workers.\n",
      "[Parallel(n_jobs=-10)]: Done   5 out of   5 | elapsed:    1.8s finished\n"
     ]
    },
    {
     "name": "stdout",
     "output_type": "stream",
     "text": [
      "[CV 5/10] END .................................., score=0.837 total time=12.2min\n"
     ]
    },
    {
     "name": "stderr",
     "output_type": "stream",
     "text": [
      "[Parallel(n_jobs=-10)]: Using backend SequentialBackend with 1 concurrent workers.\n",
      "[Parallel(n_jobs=-10)]: Done   5 out of   5 | elapsed:  2.5min finished\n",
      "[Parallel(n_jobs=-10)]: Using backend SequentialBackend with 1 concurrent workers.\n",
      "[Parallel(n_jobs=-10)]: Done   5 out of   5 | elapsed:  2.1min finished\n",
      "[Parallel(n_jobs=-10)]: Using backend SequentialBackend with 1 concurrent workers.\n",
      "[Parallel(n_jobs=-10)]: Done   5 out of   5 | elapsed:  2.6min finished\n",
      "[Parallel(n_jobs=-10)]: Using backend SequentialBackend with 1 concurrent workers.\n",
      "[Parallel(n_jobs=-10)]: Done   5 out of   5 | elapsed:  2.5min finished\n",
      "[Parallel(n_jobs=-10)]: Using backend SequentialBackend with 1 concurrent workers.\n",
      "[Parallel(n_jobs=-10)]: Done   5 out of   5 | elapsed:    1.8s finished\n"
     ]
    },
    {
     "name": "stdout",
     "output_type": "stream",
     "text": [
      "[CV 6/10] END .................................., score=0.836 total time=12.2min\n"
     ]
    },
    {
     "name": "stderr",
     "output_type": "stream",
     "text": [
      "[Parallel(n_jobs=-10)]: Using backend SequentialBackend with 1 concurrent workers.\n",
      "[Parallel(n_jobs=-10)]: Done   5 out of   5 | elapsed:  2.6min finished\n",
      "[Parallel(n_jobs=-10)]: Using backend SequentialBackend with 1 concurrent workers.\n",
      "[Parallel(n_jobs=-10)]: Done   5 out of   5 | elapsed:  2.1min finished\n",
      "[Parallel(n_jobs=-10)]: Using backend SequentialBackend with 1 concurrent workers.\n",
      "[Parallel(n_jobs=-10)]: Done   5 out of   5 | elapsed:  2.6min finished\n",
      "[Parallel(n_jobs=-10)]: Using backend SequentialBackend with 1 concurrent workers.\n",
      "[Parallel(n_jobs=-10)]: Done   5 out of   5 | elapsed:  2.5min finished\n",
      "[Parallel(n_jobs=-10)]: Using backend SequentialBackend with 1 concurrent workers.\n",
      "[Parallel(n_jobs=-10)]: Done   5 out of   5 | elapsed:    1.7s finished\n"
     ]
    },
    {
     "name": "stdout",
     "output_type": "stream",
     "text": [
      "[CV 7/10] END .................................., score=0.836 total time=12.3min\n"
     ]
    },
    {
     "name": "stderr",
     "output_type": "stream",
     "text": [
      "[Parallel(n_jobs=-10)]: Using backend SequentialBackend with 1 concurrent workers.\n",
      "[Parallel(n_jobs=-10)]: Done   5 out of   5 | elapsed:  2.6min finished\n",
      "[Parallel(n_jobs=-10)]: Using backend SequentialBackend with 1 concurrent workers.\n",
      "[Parallel(n_jobs=-10)]: Done   5 out of   5 | elapsed:  2.1min finished\n",
      "[Parallel(n_jobs=-10)]: Using backend SequentialBackend with 1 concurrent workers.\n",
      "[Parallel(n_jobs=-10)]: Done   5 out of   5 | elapsed:  2.6min finished\n",
      "[Parallel(n_jobs=-10)]: Using backend SequentialBackend with 1 concurrent workers.\n",
      "[Parallel(n_jobs=-10)]: Done   5 out of   5 | elapsed:  2.5min finished\n",
      "[Parallel(n_jobs=-10)]: Using backend SequentialBackend with 1 concurrent workers.\n",
      "[Parallel(n_jobs=-10)]: Done   5 out of   5 | elapsed:    1.8s finished\n"
     ]
    },
    {
     "name": "stdout",
     "output_type": "stream",
     "text": [
      "[CV 8/10] END .................................., score=0.832 total time=12.3min\n"
     ]
    },
    {
     "name": "stderr",
     "output_type": "stream",
     "text": [
      "[Parallel(n_jobs=-10)]: Using backend SequentialBackend with 1 concurrent workers.\n",
      "[Parallel(n_jobs=-10)]: Done   5 out of   5 | elapsed:  2.6min finished\n",
      "[Parallel(n_jobs=-10)]: Using backend SequentialBackend with 1 concurrent workers.\n",
      "[Parallel(n_jobs=-10)]: Done   5 out of   5 | elapsed:  2.1min finished\n",
      "[Parallel(n_jobs=-10)]: Using backend SequentialBackend with 1 concurrent workers.\n",
      "[Parallel(n_jobs=-10)]: Done   5 out of   5 | elapsed:  2.6min finished\n",
      "[Parallel(n_jobs=-10)]: Using backend SequentialBackend with 1 concurrent workers.\n",
      "[Parallel(n_jobs=-10)]: Done   5 out of   5 | elapsed:  2.5min finished\n",
      "[Parallel(n_jobs=-10)]: Using backend SequentialBackend with 1 concurrent workers.\n",
      "[Parallel(n_jobs=-10)]: Done   5 out of   5 | elapsed:    1.7s finished\n"
     ]
    },
    {
     "name": "stdout",
     "output_type": "stream",
     "text": [
      "[CV 9/10] END .................................., score=0.840 total time=12.3min\n"
     ]
    },
    {
     "name": "stderr",
     "output_type": "stream",
     "text": [
      "[Parallel(n_jobs=-10)]: Using backend SequentialBackend with 1 concurrent workers.\n",
      "[Parallel(n_jobs=-10)]: Done   5 out of   5 | elapsed:  2.6min finished\n",
      "[Parallel(n_jobs=-10)]: Using backend SequentialBackend with 1 concurrent workers.\n",
      "[Parallel(n_jobs=-10)]: Done   5 out of   5 | elapsed:  2.1min finished\n",
      "[Parallel(n_jobs=-10)]: Using backend SequentialBackend with 1 concurrent workers.\n",
      "[Parallel(n_jobs=-10)]: Done   5 out of   5 | elapsed:  2.6min finished\n",
      "[Parallel(n_jobs=-10)]: Using backend SequentialBackend with 1 concurrent workers.\n",
      "[Parallel(n_jobs=-10)]: Done   5 out of   5 | elapsed:  2.5min finished\n",
      "[Parallel(n_jobs=-10)]: Using backend SequentialBackend with 1 concurrent workers.\n",
      "[Parallel(n_jobs=-10)]: Done   5 out of   5 | elapsed:    1.8s finished\n"
     ]
    },
    {
     "name": "stdout",
     "output_type": "stream",
     "text": [
      "[CV 10/10] END ................................., score=0.835 total time=12.3min\n"
     ]
    },
    {
     "name": "stderr",
     "output_type": "stream",
     "text": [
      "[Parallel(n_jobs=-10)]: Using backend SequentialBackend with 1 concurrent workers.\n",
      "[Parallel(n_jobs=-10)]: Done   5 out of   5 | elapsed:  2.8min finished\n",
      "[Parallel(n_jobs=-10)]: Using backend SequentialBackend with 1 concurrent workers.\n",
      "[Parallel(n_jobs=-10)]: Done   5 out of   5 | elapsed:  2.3min finished\n",
      "[Parallel(n_jobs=-10)]: Using backend SequentialBackend with 1 concurrent workers.\n",
      "[Parallel(n_jobs=-10)]: Done   5 out of   5 | elapsed:  2.9min finished\n",
      "[Parallel(n_jobs=-10)]: Using backend SequentialBackend with 1 concurrent workers.\n",
      "[Parallel(n_jobs=-10)]: Done   5 out of   5 | elapsed:  2.8min finished\n",
      "[Parallel(n_jobs=-10)]: Using backend SequentialBackend with 1 concurrent workers.\n",
      "[Parallel(n_jobs=-10)]: Done   5 out of   5 | elapsed:    2.5s finished\n"
     ]
    },
    {
     "name": "stdout",
     "output_type": "stream",
     "text": [
      "Train ROC AUC: 0.835\n",
      "Test AUC-ROC %.3f %  0.8438860065516413\n"
     ]
    },
    {
     "data": {
      "image/png": "[encoded data removed]",
      "text/plain": [
       "<Figure size 432x288 with 2 Axes>"
      ]
     },
     "metadata": {
      "needs_background": "light"
     },
     "output_type": "display_data"
    },
    {
     "name": "stdout",
     "output_type": "stream",
     "text": [
      "recall:  61.78732755463313\n",
      "precision:  28.67584565697773\n"
     ]
    }
   ],
   "source": [
    "clf1 = RandomForestClassifier(n_estimators = 1000 , max_depth = 20, max_features = 5, min_samples_leaf = 15, min_samples_split = 15)\n",
    "clf2 = XGBClassifier( random_state=2, verbosity=1, learning_rate = 0.1, n_estimators = 1000,   n_jobs = -1)\n",
    "clf9 = RandomForestClassifier(n_estimators = 1000 , max_depth = 20, max_features = 5, min_samples_leaf = 13, min_samples_split = 13)\n",
    "clf10 = RandomForestClassifier(n_estimators = 1000 , max_depth = 20, max_features = 5, min_samples_leaf = 17, min_samples_split = 17)\n",
    "clf11 = LogisticRegression(class_weight= 'balanced', max_iter = 500)\n",
    "# clf3 = GradientBoostingClassifier(n_estimators = 250 , max_depth = 5, learning_rate = 0.05)\n",
    "# clf4 = RandomForestClassifier(n_estimators = 1000 , max_depth = 20, max_features = 5, min_samples_leaf = 15, min_samples_split = 15)\n",
    "model = vc = StackingClassifier(estimators = [('rf1', clf1), ('rf2', clf2), ('rf9', clf9),('rf10', clf10), ('lr1', clf11)],\n",
    "                       n_jobs = -10, verbose = True)\n",
    "\n",
    "\n",
    "parameters = {\n",
    "\n",
    "    }\n",
    "over = SMOTE(sampling_strategy=0.1)\n",
    "under = RandomUnderSampler(sampling_strategy=0.5)\n",
    "steps = [('over', over), ('under', under), ('model', model)]\n",
    "pipeline = Pipeline(steps=steps)\n",
    "\n",
    "\n",
    "\n",
    "\n",
    "\n",
    "cv = RepeatedStratifiedKFold(n_splits=10, n_repeats=1, random_state=1)\n",
    "\n",
    "clf = GridSearchCV(pipeline, parameters, cv=cv, n_jobs=-10, verbose =3)\n",
    "clf.fit(x_train_full, y_train_full)\n",
    "print('Train ROC AUC: %.3f' % (clf.best_score_))\n",
    "\n",
    "md_probs = clf.predict_proba(x_test_full)\n",
    "md_probs = md_probs[:,1]\n",
    "md_auc = roc_auc_score(y_test_full, md_probs)\n",
    "print('Test AUC-ROC %.3f % ', md_auc)\n",
    "\n",
    "pred = clf.predict(x_test_full)\n",
    "confusion = confusion_matrix(y_test_full, pred)\n",
    "\n",
    "display = ConfusionMatrixDisplay(confusion_matrix = confusion)\n",
    "display.plot()\n",
    "plt.grid(False)\n",
    "plt.show()\n",
    "print(\"recall: \", (confusion[1][1]/(confusion[1][0] +confusion[1][1]))*100)\n",
    "print(\"precision: \", (confusion[1][1]/(confusion[0][1] +confusion[1][1]))*100)"
   ]
  },
  {
   "cell_type": "markdown",
   "id": "61a33286",
   "metadata": {},
   "source": [
    "## BEST VOTING CLASSIFIER MODEL WITH SMOTE"
   ]
  },
  {
   "cell_type": "code",
   "execution_count": 81,
   "id": "bccab25b",
   "metadata": {},
   "outputs": [
    {
     "name": "stdout",
     "output_type": "stream",
     "text": [
      "Fitting 10 folds for each of 1 candidates, totalling 10 fits\n",
      "Train ROC AUC: 0.815\n",
      "Test AUC-ROC %.3f %  0.8436250248468207\n"
     ]
    },
    {
     "data": {
      "image/png": "[encoded data removed]",
      "text/plain": [
       "<Figure size 432x288 with 2 Axes>"
      ]
     },
     "metadata": {
      "needs_background": "light"
     },
     "output_type": "display_data"
    },
    {
     "name": "stdout",
     "output_type": "stream",
     "text": [
      "recall:  66.37773165669637\n",
      "precision:  26.74899143953557\n",
      "time: 7min 31s (started: 2022-05-08 04:24:52 +05:00)\n"
     ]
    }
   ],
   "source": [
    "clf1 = LogisticRegression(class_weight= 'balanced', max_iter = 500)\n",
    "clf2 = XGBClassifier( random_state=2, verbosity=1, learning_rate = 0.05, n_estimators = 1000,   n_jobs = -1)\n",
    "clf3 = RandomForestClassifier(n_estimators = 1000 , max_depth = 20, max_features = 5, min_samples_leaf = 15, min_samples_split = 15)\n",
    "model = vc = VotingClassifier(estimators = [('lr', clf1), ('xgb', clf2), ('rf', clf3)],\n",
    "                      voting = 'soft', n_jobs = -1, verbose = True)\n",
    "\n",
    "\n",
    "parameters = {\n",
    "\n",
    "    }\n",
    "over = SMOTE(sampling_strategy=0.1)\n",
    "under = RandomUnderSampler(sampling_strategy=0.5)\n",
    "steps = [('over', over), ('under', under), ('model', model)]\n",
    "pipeline = Pipeline(steps=steps)\n",
    "\n",
    "\n",
    "\n",
    "\n",
    "\n",
    "cv = RepeatedStratifiedKFold(n_splits=10, n_repeats=1, random_state=1)\n",
    "\n",
    "clf = GridSearchCV(pipeline, parameters, cv=cv, n_jobs=-10, verbose =3)\n",
    "clf.fit(x_train_full, y_train_full)\n",
    "print('Train ROC AUC: %.3f' % (clf.best_score_))\n",
    "\n",
    "md_probs = clf.predict_proba(x_test_full)\n",
    "md_probs = md_probs[:,1]\n",
    "md_auc = roc_auc_score(y_test_full, md_probs)\n",
    "print('Test AUC-ROC %.3f % ', md_auc)\n",
    "\n",
    "pred = clf.predict(x_test_full)\n",
    "confusion = confusion_matrix(y_test_full, pred)\n",
    "\n",
    "display = ConfusionMatrixDisplay(confusion_matrix = confusion)\n",
    "display.plot()\n",
    "plt.grid(False)\n",
    "plt.show()\n",
    "print(\"recall: \", (confusion[1][1]/(confusion[1][0] +confusion[1][1]))*100)\n",
    "print(\"precision: \", (confusion[1][1]/(confusion[0][1] +confusion[1][1]))*100)"
   ]
  },
  {
   "cell_type": "markdown",
   "id": "332a5c98",
   "metadata": {},
   "source": [
    "## TOP THREE WINNER MODELS"
   ]
  },
  {
   "cell_type": "markdown",
   "id": "960f5283",
   "metadata": {},
   "source": [
    "## WINNER 1 LOGISTIC REGRESSION MODEL WITH SMOTE"
   ]
  },
  {
   "cell_type": "code",
   "execution_count": 46,
   "id": "3ba78fd0",
   "metadata": {},
   "outputs": [
    {
     "name": "stdout",
     "output_type": "stream",
     "text": [
      "Fitting 10 folds for each of 1 candidates, totalling 10 fits\n",
      "Train ROC AUC: 0.748\n",
      "Test AUC-ROC %.3f %  0.8418854301794196\n"
     ]
    },
    {
     "data": {
      "image/png": "[encoded data removed]",
      "text/plain": [
       "<Figure size 432x288 with 2 Axes>"
      ]
     },
     "metadata": {
      "needs_background": "light"
     },
     "output_type": "display_data"
    },
    {
     "name": "stdout",
     "output_type": "stream",
     "text": [
      "recall:  78.13453790745942\n",
      "precision:  22.422310198647654\n",
      "time: 34.3 s (started: 2022-05-07 21:37:51 +05:00)\n"
     ]
    }
   ],
   "source": [
    "model = lr = LogisticRegression(  class_weight= 'balanced')\n",
    "parameters = {\n",
    "    \"model__max_iter\": [500],\n",
    "\n",
    "    }\n",
    "over = SMOTE(sampling_strategy=0.1)\n",
    "under = RandomUnderSampler(sampling_strategy=0.5)\n",
    "steps = [('over', over), ('under', under), ('model', model)]\n",
    "pipeline = Pipeline(steps=steps)\n",
    "\n",
    "\n",
    "\n",
    "\n",
    "\n",
    "cv = RepeatedStratifiedKFold(n_splits=10, n_repeats=1, random_state=1)\n",
    "\n",
    "clf = GridSearchCV(pipeline, parameters, cv=cv, n_jobs=-10, verbose =3)\n",
    "clf.fit(x_train_full, y_train_full)\n",
    "print('Train ROC AUC: %.3f' % (clf.best_score_))\n",
    "\n",
    "md_probs = clf.predict_proba(x_test_full)\n",
    "md_probs = md_probs[:,1]\n",
    "md_auc = roc_auc_score(y_test_full, md_probs)\n",
    "print('Test AUC-ROC %.3f % ', md_auc)\n",
    "\n",
    "pred = clf.predict(x_test_full)\n",
    "confusion = confusion_matrix(y_test_full, pred)\n",
    "\n",
    "display = ConfusionMatrixDisplay(confusion_matrix = confusion)\n",
    "display.plot()\n",
    "plt.grid(False)\n",
    "plt.show()\n",
    "print(\"recall: \", (confusion[1][1]/(confusion[1][0] +confusion[1][1]))*100)\n",
    "print(\"precision: \", (confusion[1][1]/(confusion[0][1] +confusion[1][1]))*100)"
   ]
  },
  {
   "cell_type": "markdown",
   "id": "2852449a",
   "metadata": {},
   "source": [
    "## WINNER 2 VOTING CLASSIFIER MODEL WITH SMOTE"
   ]
  },
  {
   "cell_type": "code",
   "execution_count": 81,
   "id": "1eff0909",
   "metadata": {
    "scrolled": false
   },
   "outputs": [
    {
     "name": "stdout",
     "output_type": "stream",
     "text": [
      "Fitting 10 folds for each of 1 candidates, totalling 10 fits\n",
      "Train ROC AUC: 0.815\n",
      "Test AUC-ROC %.3f %  0.8436250248468207\n"
     ]
    },
    {
     "data": {
      "image/png": "[encoded data removed]",
      "text/plain": [
       "<Figure size 432x288 with 2 Axes>"
      ]
     },
     "metadata": {
      "needs_background": "light"
     },
     "output_type": "display_data"
    },
    {
     "name": "stdout",
     "output_type": "stream",
     "text": [
      "recall:  66.37773165669637\n",
      "precision:  26.74899143953557\n",
      "time: 7min 31s (started: 2022-05-08 04:24:52 +05:00)\n"
     ]
    }
   ],
   "source": [
    "clf1 = LogisticRegression(class_weight= 'balanced', max_iter = 500)\n",
    "clf2 = X`GBClassifier( random_state=2, verbosity=1, learning_rate = 0.05, n_estimators = 1000,   n_jobs = -1)\n",
    "clf3 = RandomForestClassifier(n_estimators = 1000 , max_depth = 20, max_features = 5, min_samples_leaf = 15, min_samples_split = 15)\n",
    "model = vc = VotingClassifier(estimators = [('lr', clf1), ('xgb', clf2), ('rf', clf3)],\n",
    "                      voting = 'soft', n_jobs = -1, verbose = True)\n",
    "\n",
    "\n",
    "parameters = {\n",
    "\n",
    "    }\n",
    "over = SMOTE(sampling_strategy=0.1)\n",
    "under = RandomUnderSampler(sampling_strategy=0.5)\n",
    "steps = [('over', over), ('under', under), ('model', model)]\n",
    "pipeline = Pipeline(steps=steps)\n",
    "\n",
    "\n",
    "\n",
    "\n",
    "\n",
    "cv = RepeatedStratifiedKFold(n_splits=10, n_repeats=1, random_state=1)\n",
    "\n",
    "clf = GridSearchCV(pipeline, parameters, cv=cv, n_jobs=-10, verbose =3)\n",
    "clf.fit(x_train_full, y_train_full)\n",
    "print('Train ROC AUC: %.3f' % (clf.best_score_))\n",
    "\n",
    "md_probs = clf.predict_proba(x_test_full)\n",
    "md_probs = md_probs[:,1]\n",
    "md_auc = roc_auc_score(y_test_full, md_probs)\n",
    "print('Test AUC-ROC %.3f % ', md_auc)\n",
    "\n",
    "pred = clf.predict(x_test_full)\n",
    "confusion = confusion_matrix(y_test_full, pred)\n",
    "\n",
    "display = ConfusionMatrixDisplay(confusion_matrix = confusion)\n",
    "display.plot()\n",
    "plt.grid(False)\n",
    "plt.show()\n",
    "print(\"recall: \", (confusion[1][1]/(confusion[1][0] +confusion[1][1]))*100)\n",
    "print(\"precision: \", (confusion[1][1]/(confusion[0][1] +confusion[1][1]))*100)"
   ]
  },
  {
   "cell_type": "markdown",
   "id": "eff17ab9",
   "metadata": {},
   "source": [
    "## WINNER 3 VOTING CLASSIFIER MODEL WITH SMOTE"
   ]
  },
  {
   "cell_type": "code",
   "execution_count": 70,
   "id": "baae3517",
   "metadata": {},
   "outputs": [
    {
     "name": "stdout",
     "output_type": "stream",
     "text": [
      "Fitting 10 folds for each of 1 candidates, totalling 10 fits\n",
      "Train ROC AUC: 0.800\n",
      "Test AUC-ROC %.3f %  0.8424440923369381\n"
     ]
    },
    {
     "data": {
      "image/png": "[encoded data removed]",
      "text/plain": [
       "<Figure size 432x288 with 2 Axes>"
      ]
     },
     "metadata": {
      "needs_background": "light"
     },
     "output_type": "display_data"
    },
    {
     "name": "stdout",
     "output_type": "stream",
     "text": [
      "recall:  69.89378586253204\n",
      "precision:  25.43088130774698\n",
      "time: 5min 31s (started: 2022-05-08 01:22:53 +05:00)\n"
     ]
    }
   ],
   "source": [
    "clf1 = LogisticRegression(class_weight= 'balanced', max_iter = 500)\n",
    "clf2 = XGBClassifier( random_state=2, verbosity=1, learning_rate = 0.05, n_estimators = 1000,   n_jobs = -1)\n",
    "model = vc = VotingClassifier(estimators = [('lr', clf1), ('xgb', clf2)],\n",
    "                      voting = 'soft', n_jobs = -1, verbose = True)\n",
    "\n",
    "\n",
    "parameters = {\n",
    "\n",
    "    }\n",
    "over = SMOTE(sampling_strategy=0.1)\n",
    "under = RandomUnderSampler(sampling_strategy=0.5)\n",
    "steps = [('over', over), ('under', under), ('model', model)]\n",
    "pipeline = Pipeline(steps=steps)\n",
    "\n",
    "\n",
    "\n",
    "\n",
    "\n",
    "cv = RepeatedStratifiedKFold(n_splits=10, n_repeats=1, random_state=1)\n",
    "\n",
    "clf = GridSearchCV(pipeline, parameters, cv=cv, n_jobs=-10, verbose =3)\n",
    "clf.fit(x_train_full, y_train_full)\n",
    "print('Train ROC AUC: %.3f' % (clf.best_score_))\n",
    "\n",
    "md_probs = clf.predict_proba(x_test_full)\n",
    "md_probs = md_probs[:,1]\n",
    "md_auc = roc_auc_score(y_test_full, md_probs)\n",
    "print('Test AUC-ROC %.3f % ', md_auc)\n",
    "\n",
    "pred = clf.predict(x_test_full)\n",
    "confusion = confusion_matrix(y_test_full, pred)\n",
    "\n",
    "display = ConfusionMatrixDisplay(confusion_matrix = confusion)\n",
    "display.plot()\n",
    "plt.grid(False)\n",
    "plt.show()\n",
    "print(\"recall: \", (confusion[1][1]/(confusion[1][0] +confusion[1][1]))*100)\n",
    "print(\"precision: \", (confusion[1][1]/(confusion[0][1] +confusion[1][1]))*100)"
   ]
  },
  {
   "cell_type": "code",
   "execution_count": null,
   "id": "e4996d4f",
   "metadata": {},
   "outputs": [],
   "source": []
  }
 ],
 "metadata": {
  "kernelspec": {
   "display_name": "Python 3 (ipykernel)",
   "language": "python",
   "name": "python3"
  },
  "language_info": {
   "codemirror_mode": {
    "name": "ipython",
    "version": 3
   },
   "file_extension": ".py",
   "mimetype": "text/x-python",
   "name": "python",
   "nbconvert_exporter": "python",
   "pygments_lexer": "ipython3",
   "version": "3.9.7"
  }
 },
 "nbformat": 4,
 "nbformat_minor": 5
}
